{
 "cells": [
  {
   "cell_type": "markdown",
   "metadata": {},
   "source": [
    "쉽게 배우기위해 만들었다\n",
    "\n",
    "일을할수가없어서...?심심해서???? 파이썬을만들었따\n",
    "쉬워서 많이배우고 인기도많다\n",
    "호호호호"
   ]
  },
  {
   "cell_type": "code",
   "execution_count": null,
   "metadata": {},
   "outputs": [],
   "source": []
  }
 ],
 "metadata": {
  "kernelspec": {
   "display_name": "Python 3",
   "language": "python",
   "name": "python3"
  },
  "language_info": {
   "codemirror_mode": {
    "name": "ipython",
    "version": 3
   },
   "file_extension": ".py",
   "mimetype": "text/x-python",
   "name": "python",
   "nbconvert_exporter": "python",
   "pygments_lexer": "ipython3",
   "version": "3.7.6"
  }
 },
 "nbformat": 4,
 "nbformat_minor": 4
}
