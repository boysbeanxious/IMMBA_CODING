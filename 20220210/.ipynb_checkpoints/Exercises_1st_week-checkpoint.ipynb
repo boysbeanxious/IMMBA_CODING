{
 "cells": [
  {
   "cell_type": "markdown",
   "metadata": {},
   "source": [
    "Exercises\n",
    "========"
   ]
  },
  {
   "cell_type": "markdown",
   "metadata": {},
   "source": [
    "### (1) Display the sum of 5 + 10, using two variables: x and y."
   ]
  },
  {
   "cell_type": "code",
   "execution_count": 1,
   "metadata": {},
   "outputs": [
    {
     "name": "stdout",
     "output_type": "stream",
     "text": [
      "15\n"
     ]
    }
   ],
   "source": [
    "# your code here\n",
    "\n",
    "x = 5\n",
    "y = 10\n",
    "\n",
    "print(x+y)\n",
    "\n"
   ]
  },
  {
   "cell_type": "markdown",
   "metadata": {},
   "source": [
    "### (2) Write a program that reads a number between 10,000 and 99,999 from the user, where the user enters a comma in the input. Then print the number without a comma. \n",
    "\n",
    "### Here is a sample example; the user input is in **bold**:\n",
    "\n",
    "Please enter an integer between 10,000 and 99,999: **23,456**\n",
    "<br/>23456\n",
    "    \n",
    "   Hint: Read the input as a string. Turn the strings consisting of the first two characters and the last three characters into numbers, and combine them."
   ]
  },
  {
   "cell_type": "code",
   "execution_count": 2,
   "metadata": {},
   "outputs": [
    {
     "name": "stdout",
     "output_type": "stream",
     "text": [
      "Please enter an integer between 10,000 and 99,99910,002\n",
      "10002\n"
     ]
    }
   ],
   "source": [
    "# your code here\n",
    "num = input(\"Please enter an integer between 10,000 and 99,999\")\n",
    "\n",
    "if num.find(','):\n",
    "    num = num.replace(',', '')\n",
    "\n",
    "numint = int(num)\n",
    "\n",
    "if (numint >=10000) & (numint <=99999) :\n",
    "    print(numint)\n",
    "else :\n",
    "    print(\"Please enter an integer between 10,000 and 99,999\")  \n",
    "\n"
   ]
  },
  {
   "cell_type": "markdown",
   "metadata": {},
   "source": [
    "### (3) Write a program that reads a five-digit positive integer and breaks it into a sequence of individual digits. For example, the input 16384 is displayed as\n",
    "\n",
    "1 6 3 8 4"
   ]
  },
  {
   "cell_type": "code",
   "execution_count": 3,
   "metadata": {},
   "outputs": [
    {
     "name": "stdout",
     "output_type": "stream",
     "text": [
      "16384\n",
      "1 6 3 8 4 "
     ]
    }
   ],
   "source": [
    "# your code here\n",
    "numlist = input()\n",
    "\n",
    "for i in numlist :\n",
    "    print(i, end=\" \")"
   ]
  },
  {
   "cell_type": "markdown",
   "metadata": {},
   "source": [
    "### (4) Write a program that asks a number via input() function and to check whether the given number is even or odd. Print out an appropriate message to the user."
   ]
  },
  {
   "cell_type": "code",
   "execution_count": 4,
   "metadata": {},
   "outputs": [
    {
     "name": "stdout",
     "output_type": "stream",
     "text": [
      "6\n",
      "It's even number\n"
     ]
    }
   ],
   "source": [
    "# your code here\n",
    "num = int(input())\n",
    "\n",
    "if num%2==1 : \n",
    "    print(\"It's odd number\")\n",
    "else : \n",
    "    print(\"It's even number\")\n",
    "\n",
    "\n",
    "\n"
   ]
  },
  {
   "cell_type": "markdown",
   "metadata": {},
   "source": [
    "### (5) Write a program that translates a letter grade into a number grade. Letter grades are A, B, C, D, and F, possibly followed by + or -. Their numeric values are 4, 3, 2, 1, and 0. There is no F+ or F-. A+ increases the numeric value by 0.3, A- decreases it by 0.3."
   ]
  },
  {
   "cell_type": "code",
   "execution_count": 5,
   "metadata": {},
   "outputs": [
    {
     "name": "stdout",
     "output_type": "stream",
     "text": [
      "A+\n",
      "4.3\n"
     ]
    }
   ],
   "source": [
    "# your code here\n",
    "grade = input()\n",
    "score = 0\n",
    "\n",
    "if grade.count('A') == 1:\n",
    "    score = 4\n",
    "if grade.count('B') == 1:\n",
    "    score = 3\n",
    "if grade.count('C') == 1:\n",
    "    score = 2\n",
    "if grade.count('D') == 1:\n",
    "    score = 1\n",
    "if grade.count('F') == 1:\n",
    "    score = 0\n",
    "\n",
    "if (grade.count('F') == 0)&(grade.count('+') == 1):\n",
    "    score +=0.3\n",
    "elif (grade.count('F') == 0)&(grade.count('-') == 1):\n",
    "    score -=0.3\n",
    "\n",
    "print(score)"
   ]
  },
  {
   "cell_type": "markdown",
   "metadata": {},
   "source": [
    "### (6) Write a program that reads in three floating-point numbers and prints the largest of the three inputs without using the **max** function. For example:\n",
    "\n",
    "Enter a number : 4.0<br/>\n",
    "Enter a number : 9.0<br/>\n",
    "Enter a number : 2.5<br/>\n",
    "The largest number is 9.0"
   ]
  },
  {
   "cell_type": "code",
   "execution_count": 6,
   "metadata": {},
   "outputs": [
    {
     "name": "stdout",
     "output_type": "stream",
     "text": [
      "Enter a number5\n",
      "Enter a number9\n",
      "Enter a number2.5\n",
      "9.0\n"
     ]
    }
   ],
   "source": [
    "# your code here\n",
    "listnum = []\n",
    "\n",
    "for i in range(0, 3):\n",
    "    num = float(input(\"Enter a number\"))\n",
    "    listnum.append(num)\n",
    "    \n",
    "print(max(listnum))\n"
   ]
  },
  {
   "cell_type": "markdown",
   "metadata": {},
   "source": [
    "### (7) Write a Python program to construct the following pattern, using a nested loop number.<br/>\n",
    "*Expected Output:<br/>*\n",
    "1<br/>\n",
    "22<br/>\n",
    "333<br/>\n",
    "4444<br/>\n",
    "55555<br/>\n",
    "666666<br/>\n",
    "7777777<br/>\n",
    "88888888<br/>\n",
    "999999999<br/>"
   ]
  },
  {
   "cell_type": "code",
   "execution_count": 7,
   "metadata": {},
   "outputs": [
    {
     "name": "stdout",
     "output_type": "stream",
     "text": [
      "1\n",
      "22\n",
      "333\n",
      "4444\n",
      "55555\n",
      "666666\n",
      "7777777\n",
      "88888888\n",
      "999999999\n"
     ]
    }
   ],
   "source": [
    "# your code here\n",
    "\n",
    "for i in range(9):\n",
    "    for j in range(9):\n",
    "        if i>=j:\n",
    "            print(i+1, end=\"\")      \n",
    "    print()\n"
   ]
  },
  {
   "cell_type": "markdown",
   "metadata": {},
   "source": [
    "### (8) Write a Python program to create the multiplication table (from 1 to 9) of a number.\n",
    "*Expected Output:<br/>*\n",
    "\n",
    "Input a number: 7                                             \n",
    "7 x 1 = 7                                                               \n",
    "7 x 2 = 14                                                              \n",
    "7 x 3 = 21                                                              \n",
    "7 x 4 = 28                                                              \n",
    "7 x 5 = 35                                                              \n",
    "7 x 6 = 42                                                              \n",
    "7 x 7 = 49                                                              \n",
    "7 x 8 = 56                                                              \n",
    "7 x 9 = 63                                                              "
   ]
  },
  {
   "cell_type": "code",
   "execution_count": 8,
   "metadata": {},
   "outputs": [
    {
     "name": "stdout",
     "output_type": "stream",
     "text": [
      "Input a number: 7\n",
      "7 * 1 = 7\n",
      "7 * 2 = 14\n",
      "7 * 3 = 21\n",
      "7 * 4 = 28\n",
      "7 * 5 = 35\n",
      "7 * 6 = 42\n",
      "7 * 7 = 49\n",
      "7 * 8 = 56\n",
      "7 * 9 = 63\n"
     ]
    }
   ],
   "source": [
    "# your code here\n",
    "num = int(input(\"Input a number: \"))\n",
    "\n",
    "for i in range(1,10):\n",
    "    print(str(num)+' * '+str(i)+' = '+str(i*num))\n"
   ]
  },
  {
   "cell_type": "markdown",
   "metadata": {},
   "source": [
    "### (9) Write a Python program that accepts a string and calculate the number of digits.\n",
    "Sample Data : Python 3.7<br/>\n",
    "Expected Output :<br/>\n",
    "Digits 2"
   ]
  },
  {
   "cell_type": "code",
   "execution_count": 9,
   "metadata": {},
   "outputs": [
    {
     "name": "stdout",
     "output_type": "stream",
     "text": [
      "Sample Data : Python 3.7\n",
      "Digits 2\n"
     ]
    }
   ],
   "source": [
    "# your code here\n",
    "inputstr = input(\"Sample Data : \")\n",
    "intnum = 0\n",
    "\n",
    "for i in inputstr:\n",
    "    if i.isdigit()==True:\n",
    "        intnum+=1\n",
    "\n",
    "print(\"Digits \"+ str(intnum))\n",
    "        "
   ]
  },
  {
   "cell_type": "markdown",
   "metadata": {},
   "source": [
    "### (10) Write a program that reads a word and prints the number of vowels in the word. For this problem, assume that 'a', 'e', 'i', 'o', 'u', 'y' are vowels. For example, if you enter a word \"KAIST IMMBA\", the program prints \"4\"."
   ]
  },
  {
   "cell_type": "code",
   "execution_count": 10,
   "metadata": {},
   "outputs": [
    {
     "name": "stdout",
     "output_type": "stream",
     "text": [
      "KAIST IMMBA\n",
      "vowels 4\n"
     ]
    }
   ],
   "source": [
    "#your code here\n",
    "inputstr = input()\n",
    "vnum = 0\n",
    "\n",
    "for i in inputstr.lower():\n",
    "    if (i=='a')|(i=='e')|(i=='i')|(i=='o')|(i=='u')|(i=='y'):\n",
    "        vnum+=1\n",
    "\n",
    "print(\"vowels \"+ str(vnum))\n",
    "        \n"
   ]
  },
  {
   "cell_type": "markdown",
   "metadata": {},
   "source": [
    "### (11) Write a program to fill the list with 6 random numbers from 1 to 45 that do not overlap."
   ]
  },
  {
   "cell_type": "code",
   "execution_count": 11,
   "metadata": {},
   "outputs": [
    {
     "name": "stdout",
     "output_type": "stream",
     "text": [
      "[33, 18, 38, 39, 8, 28, 15]\n"
     ]
    }
   ],
   "source": [
    "#your code here\n",
    "from random import randint \n",
    "randomlist = []\n",
    "i = 0\n",
    "while len(randomlist)<=6:\n",
    "    num = randint(1,45)\n",
    "    if randomlist.count(num)==1:\n",
    "        continue\n",
    "    else :\n",
    "        randomlist.append(num)\n",
    "        \n",
    "print(randomlist)\n",
    "\n"
   ]
  },
  {
   "cell_type": "code",
   "execution_count": 12,
   "metadata": {},
   "outputs": [
    {
     "data": {
      "text/plain": [
       "39"
      ]
     },
     "execution_count": 12,
     "metadata": {},
     "output_type": "execute_result"
    }
   ],
   "source": [
    "max(randomlist)"
   ]
  },
  {
   "cell_type": "markdown",
   "metadata": {},
   "source": [
    "### (12) Write a program to guess a number between 1 to 9 (print the number of trials, too).\n",
    "Hint:<br/> \n",
    "(1) Assign a target number to guess using **randint** function.<br/> \n",
    "(2) Use a loop statement to get a number until you can guess the target number."
   ]
  },
  {
   "cell_type": "code",
   "execution_count": 13,
   "metadata": {},
   "outputs": [
    {
     "name": "stdout",
     "output_type": "stream",
     "text": [
      "7\n",
      "neq\n",
      "neq\n",
      "neq\n",
      "neq\n",
      "neq\n",
      "neq\n",
      "neq\n",
      "eq\n"
     ]
    }
   ],
   "source": [
    "#your code here\n",
    "targetnum = int(input())\n",
    "inputnum = -99\n",
    "\n",
    "\n",
    "\n",
    "while targetnum != inputnum:\n",
    "    randnum = randint(1,9)\n",
    "    \n",
    "    if randnum != targetnum : \n",
    "        print(\"neq\")\n",
    "        continue\n",
    "    else :\n",
    "        print(\"eq\")\n",
    "        break\n",
    "\n"
   ]
  },
  {
   "cell_type": "markdown",
   "metadata": {},
   "source": [
    "### (13) When you use an automated teller machine (ATM) with your bank card, you need to use a personal identification number (PIN) to access your account. If a user fails more than three times when entering the PIN, the machine will block the card.\n",
    "### Assume that the user's PIN is \"1234\" and write a program that askes the user for the PIN no more than three times, and does the following:\n",
    "   * If the user enters the right number, print a message saying \"Your PIN is correct\", and end the program.\n",
    "   * If the user enters a wrong number, print a message saying, \"Your PIN is incorrect\" and, if you have asked for the PIN less than three times, ask for it again.\n",
    "   * If the user enters a wrong number three times, print a message saying \"Your bank card is blocked\" and end the program."
   ]
  },
  {
   "cell_type": "code",
   "execution_count": 14,
   "metadata": {},
   "outputs": [
    {
     "name": "stdout",
     "output_type": "stream",
     "text": [
      "Enter your PIN number : 1234\n",
      "Your PIN is correct\n"
     ]
    }
   ],
   "source": [
    "#your code here\n",
    "\n",
    "for i in range(3):\n",
    "    pinnum = input(\"Enter your PIN number : \")\n",
    "    \n",
    "    if pinnum ==\"1234\" :\n",
    "        print(\"Your PIN is correct\")\n",
    "        break\n",
    "    else : \n",
    "        print(\"Your PIN is incorrect\")\n",
    "    \n",
    "    if i==2:\n",
    "        print(\"Your bank card is blocked\")\n",
    "        break\n",
    "    \n"
   ]
  },
  {
   "cell_type": "markdown",
   "metadata": {},
   "source": [
    "### (14) Let's assume that there is a game where you throw 3 dice with 1 to 6 eyes and win prizes according to the following rules.\n",
    "\n",
    "* rule 1: If three same eyes come out, you will receive a prize of 10,000 + (the same eyes) X 1,000 dollars.\n",
    "* rule 2: If only two eyes are same, you will receive a prize of 1,000 + (the same eyes) X 100 dollars.\n",
    "* rule 3: If all eyes are different, you will receive a prize of 100 X (the largest of them) dollars.\n",
    "\n",
    "For example, when you get {5, 5, 5}, then you will get 10,000 + 5 X 1,000 = 15,000 dollars.    \n",
    "Or, when you get {3, 3, 2}, then you will get 1,000 + 3 X 100 = 1,300 dollars.  \n",
    "Or, when you get {1, 2, 3}, then you will get 100 X 3 = 300 dollars.\n",
    "\n",
    "### Write a program that prints out the prizes of the people with the most prizes when 5 players participate in the game."
   ]
  },
  {
   "cell_type": "code",
   "execution_count": 15,
   "metadata": {},
   "outputs": [],
   "source": [
    "#your code here\n",
    "\n",
    "from random import randint\n",
    "\n",
    "def get_key(val, dupdic):\n",
    "    maxval=-99\n",
    "    for key, value in dupdic.items():\n",
    "         if val == value:\n",
    "            if maxval<key:\n",
    "                maxval=key\n",
    "    return maxval\n",
    "    return \"There is no such Key\"\n",
    "\n",
    "def startGame(gamername):\n",
    "    dicelist=[]\n",
    "    prize = 0\n",
    "    dupnumcount={}\n",
    "    dupcount = 0\n",
    "#     print(\"-1\")\n",
    "\n",
    "    for i in range(3):\n",
    "        num = randint(1,6)\n",
    "        dicelist.append(num)\n",
    "#         print(\"num\", num)\n",
    "#     print(\"-2\")\n",
    "#     print(\"-2\", dicelist)\n",
    "    for i in range(3):\n",
    "        dupnumcount[dicelist[i]] = dicelist.count(dicelist[i])\n",
    "#     print(\"-3\")\n",
    "#     print(\"-3\", dupnumcount)\n",
    "    dupcount = max(list(dupnumcount.values()))\n",
    "    if dupcount == 3:\n",
    "        key = get_key(3, dupnumcount)\n",
    "#         print(\"3\", key)\n",
    "        prize = 10000 +  (key*1000)\n",
    "    elif dupcount ==2:\n",
    "        key = get_key(2, dupnumcount)\n",
    "#         print(\"2\", key)\n",
    "        prize = 1000 +  (key*100)\n",
    "    else : \n",
    "        key = get_key(1, dupnumcount)\n",
    "        prize = 100 +  (key*10)\n",
    "#         print(\"1\", key)\n",
    "\n",
    "    return prize"
   ]
  },
  {
   "cell_type": "code",
   "execution_count": 16,
   "metadata": {},
   "outputs": [
    {
     "name": "stdout",
     "output_type": "stream",
     "text": [
      "Enter gamer's name : A\n",
      "Enter gamer's name : B\n",
      "Enter gamer's name : C\n",
      "Enter gamer's name : D\n",
      "Enter gamer's name : E\n",
      "{'A': 160, 'B': 140, 'C': 160, 'D': 1500, 'E': 150}\n"
     ]
    }
   ],
   "source": [
    "gamerScore = {}\n",
    "for i in range(5):\n",
    "    name = input(\"Enter gamer's name : \")\n",
    "    gamerScore[name] = startGame(name)\n",
    "\n",
    "print(gamerScore)"
   ]
  },
  {
   "cell_type": "markdown",
   "metadata": {},
   "source": [
    "### (15) Write a program that computes information related to a sequence of grades obtained from the input.\n",
    "   * Get a sequence of grades of 5 students from the input function (between 0 and 100)\n",
    "   * Determine whether the grade passing or failing (pass condition: 70.0)\n",
    "   * Find the max and min grades\n",
    "   * Find the average grade.\n",
    "    \n",
    "   * At the end of the program, you should print the results,\n",
    "       * (1) The average grade is:\n",
    "       * (2) Number of passing grades is\n",
    "       * (3) Number of failing grades is\n",
    "       * (4) The maximum grade is\n",
    "       * (5) The minimum grade is"
   ]
  },
  {
   "cell_type": "code",
   "execution_count": 17,
   "metadata": {},
   "outputs": [
    {
     "name": "stdout",
     "output_type": "stream",
     "text": [
      "Enter score : 70\n",
      "Enter score : 50\n",
      "Enter score : 20\n",
      "Enter score : 30\n",
      "Enter score : 40\n",
      "(1) The average grade is: 42.0\n",
      "(2) Number of passing grades is 1\n",
      "(3) Number of failing grades is 4\n",
      "(4) The maximum grade is 70\n",
      "(5) The minimum grade is 20\n"
     ]
    }
   ],
   "source": [
    "#your code here\n",
    "scoreList = []\n",
    "failcnt = 0\n",
    "for i in range(5):\n",
    "    score = int(input(\"Enter score : \"))\n",
    "    if (score <0) | (score >100):\n",
    "        print(\"score is not correct!\")\n",
    "        break\n",
    "    scoreList.append(score)\n",
    "    \n",
    "for i in scoreList :\n",
    "    if i < 70 : \n",
    "        failcnt+=1\n",
    "        \n",
    "        \n",
    "print('(1) The average grade is: '+ str(sum(scoreList)/len(scoreList)))\n",
    "print('(2) Number of passing grades is '+ str(len(scoreList) - failcnt))\n",
    "print('(3) Number of failing grades is '+ str(failcnt))\n",
    "print('(4) The maximum grade is '+ str(max(scoreList)))\n",
    "print('(5) The minimum grade is '+ str(min(scoreList)))\n",
    "\n",
    "\n"
   ]
  },
  {
   "cell_type": "markdown",
   "metadata": {},
   "source": [
    "# sum(scoreList)\n",
    "# /len(scoreList)\n",
    "sum(scoreList)"
   ]
  },
  {
   "cell_type": "markdown",
   "metadata": {},
   "source": [
    "### (16) The *Fibonacci numbers* are defined by the sequence\n",
    "\n",
    "$f_1 = 1$<br/>\n",
    "$f_2 = 1$<br/>\n",
    "$f_n = f_{n-1} + f_{n-2}$\n",
    "\n",
    "Reformulate that as \n",
    "\n",
    "fold1 = 1<br/>\n",
    "fold2 = 1<br/>\n",
    "fnew = fold1 + fold2\n",
    "\n",
    "### After that, discard fold2, which is no longer needed, and set fold2 to fold1 and fold1 to fnew. Implement a program that prompts that asks the user for an integer n and prints the nth Fibonacci number, using the above algorithm."
   ]
  },
  {
   "cell_type": "code",
   "execution_count": 18,
   "metadata": {},
   "outputs": [
    {
     "name": "stdout",
     "output_type": "stream",
     "text": [
      "6\n",
      "13\n"
     ]
    }
   ],
   "source": [
    "#your code here\n",
    "n = int(input())\n",
    "\n",
    "def fibonacci(n):\n",
    "    if n <=1 : \n",
    "        return 1\n",
    "    else :\n",
    "        return fibonacci(n-1)+ fibonacci(n-2)\n",
    "    \n",
    "        \n",
    "print(fibonacci(n))"
   ]
  },
  {
   "cell_type": "markdown",
   "metadata": {},
   "source": [
    "### (17) Write a program that decodes the given Morse code (dot: . dash: -) received in string format as an English sentence. (A single space is separated between letters and slashes are separated between words.)\n",
    "\n",
    "| Char| Code | Char| Code |\n",
    "|:---:|:----:|:---:|:----:|\n",
    "|  A  | .-   |  N  | -.   |\n",
    "|  B  | -... |  O  | ---  |\n",
    "|  C  | -.-. |  P  | .--. |\n",
    "|  D  | -..  |  Q  | --.- |\n",
    "|  E  | .    |  R  | .-.  |\n",
    "|  F  | ..-. |  S  | ...  |\n",
    "|  G  | --.  |  T  | -    |\n",
    "|  H  | .... |  U  | ..-  |\n",
    "|  I  | ..   |  V  | ...- |\n",
    "|  J  | .--- |  W  | .--  |\n",
    "|  K  | -.-  |  X  | -..- |\n",
    "|  L  | .-.. |  Y  | -.-- |\n",
    "|  M  | --   |  Z  | --.. |"
   ]
  },
  {
   "cell_type": "code",
   "execution_count": 24,
   "metadata": {},
   "outputs": [
    {
     "name": "stdout",
     "output_type": "stream",
     "text": [
      "WELCOME KAIST IMMBA"
     ]
    }
   ],
   "source": [
    "Morse = '.-- . .-.. -.-. --- -- . / -.- .- .. ... - / .. -- -- -... .-'\n",
    "\n",
    "a = {'.-':'A','-...':'B','-.-.':'C','-..':'D','.':'E','..-.':'F',\n",
    "    '--.':'G','....':'H','..':'I','.---':'J','-.-':'K','.-..':'L',\n",
    "    '--':'M','-.':'N','---':'O','.--.':'P','--.-':'Q','.-.':'R',\n",
    "    '...':'S','-':'T','..-':'U','...-':'V','.--':'W','-..-':'X',\n",
    "    '-.--':'Y','--..':'Z','':' ', \n",
    "    '－・・・・－':'─', '・－・－・－' :'.' , '－－・・－－':',',\n",
    "    '・－・－・・'  :  '「', '－・－－・': '（' , '－・－－・－':  '）' ,  '・・－－・・': '?',\n",
    "    '－・・－・' :'/'    \n",
    "    }\n",
    "\n",
    "def morse_code(morse):\n",
    "    for i in morse.split(' '): \n",
    "        if i== '/' : \n",
    "            print(' ',end='')\n",
    "        else :\n",
    "            print(a[i],end='')\n",
    "\n",
    "morse = Morse\n",
    "morse_code(morse)      "
   ]
  },
  {
   "cell_type": "markdown",
   "metadata": {},
   "source": [
    "### (18) Write a password generator in Python. Strong passwords have a mix of lowercase letters, uppercase letters, numbers, and symbols. The passwords should be random, generating a new password every time the user asks for a new password. "
   ]
  },
  {
   "cell_type": "code",
   "execution_count": 25,
   "metadata": {},
   "outputs": [
    {
     "name": "stdout",
     "output_type": "stream",
     "text": [
      "Nw#-W%O-&O&-\n"
     ]
    }
   ],
   "source": [
    "# your code here\n",
    "length    = -99\n",
    "uppercnt  = 0\n",
    "lowercnt  = 0\n",
    "numcnt    = 0\n",
    "symbolcnt = 0\n",
    "pwdlist = []\n",
    "pwd = []\n",
    "\n",
    "# 대문자, 소문자, 숫자, 특수문자\n",
    "# 8자 이상 12자 이하로 제한 \n",
    "while (length<8)|(length>12):\n",
    "    uppercnt = randint(1,6)\n",
    "    lowercnt = randint(1,6)\n",
    "    numcnt = randint(1,6)\n",
    "    symbolcnt = randint(1,6)\n",
    "    \n",
    "    if ((uppercnt+lowercnt+numcnt+symbolcnt)>=8)&((uppercnt+lowercnt+numcnt+symbolcnt)<=12):\n",
    "            length = uppercnt+lowercnt+numcnt+symbolcnt\n",
    "            break\n",
    "\n",
    "\n",
    "# 아스키코드 65 부터 90 까지는 대문자  : chr(65)\n",
    "for i in range(uppercnt):\n",
    "    pwdlist.append(chr(randint(65,90)))\n",
    "    \n",
    "# 아스키코드 97부터 122 까지는 소문자  : chr(97)\n",
    "for i in range(lowercnt):\n",
    "    pwdlist.append(chr(randint(97,122)))\n",
    "\n",
    "\n",
    "# 아스키코드 48부터 57까지는 숫자  : chr(0)\n",
    "for i in range(numcnt):\n",
    "    pwdlist.append(chr(randint(48,57)))\n",
    "    \n",
    "# 아스키코드 33부터 47까지 특수문자 \n",
    "for i in range(symbolcnt):\n",
    "    pwdlist.append(chr(randint(33,47)))\n",
    "    \n",
    "for i in range(length):\n",
    "    index = randint(0, length-1)\n",
    "    pwd.append(pwdlist[index])\n",
    "    \n",
    "print(''.join(pwd))\n",
    "    "
   ]
  },
  {
   "cell_type": "markdown",
   "metadata": {},
   "source": [
    "### (19) When the price of coffee is as follows, \n",
    "\n",
    "| Coffee | Price |\n",
    "|:---:|:----:|\n",
    "|  Americano  | 2500 |  \n",
    "|  Cafe Latte  | 3000 |  \n",
    "|  Cappuccino  | 3000 |  \n",
    "|  Cafe Mocha  | 3500 |  \n",
    "|  Caramel Macchiato  | 4000 |  \n",
    "|  Hot Chocolate  | 2800 |  \n",
    "\n",
    "### construct it as a dictionary and print the price for the coffee after receiving an order from the user."
   ]
  },
  {
   "cell_type": "code",
   "execution_count": 26,
   "metadata": {},
   "outputs": [
    {
     "name": "stdout",
     "output_type": "stream",
     "text": [
      "Hot Chocolate\n",
      "It's 2800 won sir\n"
     ]
    }
   ],
   "source": [
    "# your code here\n",
    "\n",
    "coffee_price = {}\n",
    "\n",
    "coffee_price[\"americano\"]          = 2500\n",
    "coffee_price[\"cafelatte\"]              = 3000\n",
    "coffee_price[\"cappuccino\"]         = 3000\n",
    "coffee_price[\"cafemocha\"]          = 3500\n",
    "coffee_price[\"caramelmacchiato\"]   = 4000\n",
    "coffee_price[\"hotchocolate\"]       = 2800\n",
    "\n",
    "coffeeOrder = input().lower().replace(' ', '')\n",
    "# print(coffeeOrder.lower().replace(' ', ''))\n",
    "\n",
    "\n",
    "for key, value in coffee_price.items():\n",
    "#     print(key)\n",
    "#     print()\n",
    "    if key == coffeeOrder : \n",
    "        print(\"It's \"+ str(value)+\" won sir\")\n",
    "\n",
    "\n",
    "            \n"
   ]
  },
  {
   "cell_type": "markdown",
   "metadata": {},
   "source": [
    "### (20) Write a program that receives a dollar, yen, euro, or yuan amount from the user and converts it to won. The exchange rate for each currency is as follows. \n",
    "\n",
    "| Currency | rate |\n",
    "|:---:|:----:|\n",
    "|  dollar  | 1194.62 |  \n",
    "|  yen  | 10.3484 |  \n",
    "|  euro  | 1366.25 |  \n",
    "|  yuan  | 187.76 |  \n",
    "\n",
    "### Assume that the user enters a space between the amount and the currency name, such as 100 dollars, 100 yen, 100 euros, or 100 yuan."
   ]
  },
  {
   "cell_type": "code",
   "execution_count": 27,
   "metadata": {},
   "outputs": [
    {
     "name": "stdout",
     "output_type": "stream",
     "text": [
      "100 dollars\n",
      "119461.99999999999\n"
     ]
    }
   ],
   "source": [
    "# your code here\n",
    "inputstr = input()\n",
    "currency_rate = {}\n",
    "result = 0 \n",
    "TF=True\n",
    "\n",
    "currency_rate[\"dollar\"] = 1194.62\n",
    "currency_rate[\"yen\"]    = 10.3484\n",
    "currency_rate[\"euro\"]   = 1366.25\n",
    "currency_rate[\"yuan\"]   = 187.76\n",
    "\n",
    "\n",
    "money = int(inputstr.split(' ')[0])\n",
    "currency = inputstr.split(' ')[1]\n",
    "\n",
    "if (currency[:]==\"dollar\") | (currency[:-1]==\"dollar\") : \n",
    "    currency =\"dollar\"\n",
    "elif (currency[:]==\"yens\") | (currency[:-1]==\"yen\") : \n",
    "    currency =\"yen\"\n",
    "elif (currency[:]==\"euros\") | (currency[:-1]==\"euro\") : \n",
    "    currency =\"euro\"\n",
    "elif (currency[:]==\"yuans\") | (currency[:-1]==\"yuan\") : \n",
    "    currency =\"yuan\"\n",
    "else :\n",
    "    print(\"please input currency correctly!\")\n",
    "    TF=False\n",
    "\n",
    "if TF : \n",
    "    for key, value in currency_rate.items():\n",
    "        if key == currency : \n",
    "            result = money * value\n",
    "\n",
    "    print(result)\n"
   ]
  },
  {
   "cell_type": "code",
   "execution_count": null,
   "metadata": {},
   "outputs": [],
   "source": []
  },
  {
   "cell_type": "code",
   "execution_count": null,
   "metadata": {},
   "outputs": [],
   "source": []
  }
 ],
 "metadata": {
  "kernelspec": {
   "display_name": "Python 3",
   "language": "python",
   "name": "python3"
  },
  "language_info": {
   "codemirror_mode": {
    "name": "ipython",
    "version": 3
   },
   "file_extension": ".py",
   "mimetype": "text/x-python",
   "name": "python",
   "nbconvert_exporter": "python",
   "pygments_lexer": "ipython3",
   "version": "3.7.6"
  }
 },
 "nbformat": 4,
 "nbformat_minor": 2
}
