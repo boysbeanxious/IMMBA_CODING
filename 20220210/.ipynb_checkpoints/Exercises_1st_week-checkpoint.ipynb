{
 "cells": [
  {
   "cell_type": "markdown",
   "metadata": {},
   "source": [
    "Exercises\n",
    "========"
   ]
  },
  {
   "cell_type": "markdown",
   "metadata": {},
   "source": [
    "### (1) Display the sum of 5 + 10, using two variables: x and y."
   ]
  },
  {
   "cell_type": "code",
   "execution_count": 1,
   "metadata": {},
   "outputs": [
    {
     "name": "stdout",
     "output_type": "stream",
     "text": [
      "15\n"
     ]
    }
   ],
   "source": [
    "# your code here\n",
    "\n",
    "x = 5\n",
    "y = 10\n",
    "\n",
    "print(x+y)\n",
    "\n"
   ]
  },
  {
   "cell_type": "markdown",
   "metadata": {},
   "source": [
    "### (2) Write a program that reads a number between 10,000 and 99,999 from the user, where the user enters a comma in the input. Then print the number without a comma. \n",
    "\n",
    "### Here is a sample example; the user input is in **bold**:\n",
    "\n",
    "Please enter an integer between 10,000 and 99,999: **23,456**\n",
    "<br/>23456\n",
    "    \n",
    "   Hint: Read the input as a string. Turn the strings consisting of the first two characters and the last three characters into numbers, and combine them."
   ]
  },
  {
   "cell_type": "code",
   "execution_count": 3,
   "metadata": {},
   "outputs": [
    {
     "name": "stdout",
     "output_type": "stream",
     "text": [
      "Please enter an integer between 10,000 and 99,999 : 23,456\n",
      "23456\n"
     ]
    }
   ],
   "source": [
    "# your code here\n",
    "num = input(\"Please enter an integer between 10,000 and 99,999 : \")\n",
    "\n",
    "# , 치환\n",
    "if num.find(','):\n",
    "    num = num.replace(',', '')\n",
    "\n",
    "numint = int(num)\n",
    "\n",
    "# input 값 검증 \n",
    "if (numint >=10000) & (numint <=99999) :\n",
    "    print(numint)\n",
    "else :\n",
    "    print(\"Please enter an integer between 10,000 and 99,999\")  \n",
    "\n"
   ]
  },
  {
   "cell_type": "markdown",
   "metadata": {},
   "source": [
    "### (3) Write a program that reads a five-digit positive integer and breaks it into a sequence of individual digits. For example, the input 16384 is displayed as\n",
    "\n",
    "1 6 3 8 4"
   ]
  },
  {
   "cell_type": "code",
   "execution_count": 4,
   "metadata": {},
   "outputs": [
    {
     "name": "stdout",
     "output_type": "stream",
     "text": [
      "16384\n",
      "1 6 3 8 4 "
     ]
    }
   ],
   "source": [
    "# your code here\n",
    "numlist = input()\n",
    "\n",
    "for i in numlist :\n",
    "    print(i, end=\" \")"
   ]
  },
  {
   "cell_type": "markdown",
   "metadata": {},
   "source": [
    "### (4) Write a program that asks a number via input() function and to check whether the given number is even or odd. Print out an appropriate message to the user."
   ]
  },
  {
   "cell_type": "code",
   "execution_count": 5,
   "metadata": {},
   "outputs": [
    {
     "name": "stdout",
     "output_type": "stream",
     "text": [
      "5\n",
      "It's odd number\n"
     ]
    }
   ],
   "source": [
    "# your code here\n",
    "num = int(input())\n",
    "\n",
    "if num%2==1 : \n",
    "    print(\"It's odd number\")\n",
    "else : \n",
    "    print(\"It's even number\")\n"
   ]
  },
  {
   "cell_type": "markdown",
   "metadata": {},
   "source": [
    "### (5) Write a program that translates a letter grade into a number grade. Letter grades are A, B, C, D, and F, possibly followed by + or -. Their numeric values are 4, 3, 2, 1, and 0. There is no F+ or F-. A+ increases the numeric value by 0.3, A- decreases it by 0.3."
   ]
  },
  {
   "cell_type": "code",
   "execution_count": 10,
   "metadata": {},
   "outputs": [
    {
     "name": "stdout",
     "output_type": "stream",
     "text": [
      "a\n",
      "please input correct grade\n"
     ]
    }
   ],
   "source": [
    "# your code here\n",
    "grade = input()\n",
    "score = 0\n",
    "TF=True\n",
    "\n",
    "# 문자 기준으로 score 계산\n",
    "if grade.count('A') == 1:\n",
    "    score = 4\n",
    "elif grade.count('B') == 1:\n",
    "    score = 3\n",
    "elif grade.count('C') == 1:\n",
    "    score = 2\n",
    "elif grade.count('D') == 1:\n",
    "    score = 1\n",
    "elif grade.count('F') == 1:\n",
    "    score = 0\n",
    "else :\n",
    "    # 해당 문자를 포함하지 않을 경우 input값 문제로 판단하고 프로그램 종료\n",
    "    print(\"please input correct grade\")\n",
    "    TF=False\n",
    "\n",
    "# 문제 없는 경우 + -에 대한 계산 진행\n",
    "if TF : \n",
    "    if (grade.count('F') == 0)&(grade.count('+') == 1):\n",
    "        score +=0.3\n",
    "    elif (grade.count('F') == 0)&(grade.count('-') == 1):\n",
    "        score -=0.3\n",
    "    print(score)"
   ]
  },
  {
   "cell_type": "markdown",
   "metadata": {},
   "source": [
    "### (6) Write a program that reads in three floating-point numbers and prints the largest of the three inputs without using the **max** function. For example:\n",
    "\n",
    "Enter a number : 4.0<br/>\n",
    "Enter a number : 9.0<br/>\n",
    "Enter a number : 2.5<br/>\n",
    "The largest number is 9.0"
   ]
  },
  {
   "cell_type": "code",
   "execution_count": 12,
   "metadata": {},
   "outputs": [
    {
     "name": "stdout",
     "output_type": "stream",
     "text": [
      "Enter a number : 1\n",
      "Enter a number : 2\n",
      "Enter a number : 3\n",
      "3.0\n"
     ]
    }
   ],
   "source": [
    "# your code here\n",
    "listnum = []\n",
    "\n",
    "for i in range(0, 3):\n",
    "    num = float(input(\"Enter a number : \"))\n",
    "    listnum.append(num)\n",
    "    \n",
    "print(max(listnum))\n"
   ]
  },
  {
   "cell_type": "markdown",
   "metadata": {},
   "source": [
    "### (7) Write a Python program to construct the following pattern, using a nested loop number.<br/>\n",
    "*Expected Output:<br/>*\n",
    "1<br/>\n",
    "22<br/>\n",
    "333<br/>\n",
    "4444<br/>\n",
    "55555<br/>\n",
    "666666<br/>\n",
    "7777777<br/>\n",
    "88888888<br/>\n",
    "999999999<br/>"
   ]
  },
  {
   "cell_type": "code",
   "execution_count": 13,
   "metadata": {},
   "outputs": [
    {
     "name": "stdout",
     "output_type": "stream",
     "text": [
      "1\n",
      "22\n",
      "333\n",
      "4444\n",
      "55555\n",
      "666666\n",
      "7777777\n",
      "88888888\n",
      "999999999\n"
     ]
    }
   ],
   "source": [
    "# your code here\n",
    "\n",
    "for i in range(9):\n",
    "    for j in range(9):\n",
    "        if i>=j:\n",
    "            print(i+1, end=\"\")      \n",
    "    print()\n"
   ]
  },
  {
   "cell_type": "markdown",
   "metadata": {},
   "source": [
    "### (8) Write a Python program to create the multiplication table (from 1 to 9) of a number.\n",
    "*Expected Output:<br/>*\n",
    "\n",
    "Input a number: 7                                             \n",
    "7 x 1 = 7                                                               \n",
    "7 x 2 = 14                                                              \n",
    "7 x 3 = 21                                                              \n",
    "7 x 4 = 28                                                              \n",
    "7 x 5 = 35                                                              \n",
    "7 x 6 = 42                                                              \n",
    "7 x 7 = 49                                                              \n",
    "7 x 8 = 56                                                              \n",
    "7 x 9 = 63                                                              "
   ]
  },
  {
   "cell_type": "code",
   "execution_count": 15,
   "metadata": {},
   "outputs": [
    {
     "name": "stdout",
     "output_type": "stream",
     "text": [
      "Input a number: 4\n",
      "4 x 1 = 4\n",
      "4 x 2 = 8\n",
      "4 x 3 = 12\n",
      "4 x 4 = 16\n",
      "4 x 5 = 20\n",
      "4 x 6 = 24\n",
      "4 x 7 = 28\n",
      "4 x 8 = 32\n",
      "4 x 9 = 36\n"
     ]
    }
   ],
   "source": [
    "# your code here\n",
    "num = int(input(\"Input a number: \"))\n",
    "\n",
    "for i in range(1,10):\n",
    "    print(str(num)+' x '+str(i)+' = '+str(i*num))\n"
   ]
  },
  {
   "cell_type": "markdown",
   "metadata": {},
   "source": [
    "### (9) Write a Python program that accepts a string and calculate the number of digits.\n",
    "Sample Data : Python 3.7<br/>\n",
    "Expected Output :<br/>\n",
    "Digits 2"
   ]
  },
  {
   "cell_type": "code",
   "execution_count": 17,
   "metadata": {},
   "outputs": [
    {
     "name": "stdout",
     "output_type": "stream",
     "text": [
      "Sample Data : Python 3.7.5.1\n",
      "Digits 4\n"
     ]
    }
   ],
   "source": [
    "# your code here\n",
    "inputstr = input(\"Sample Data : \")\n",
    "intnum = 0\n",
    "\n",
    "for i in inputstr:\n",
    "    if i.isdigit()==True:\n",
    "        intnum+=1\n",
    "\n",
    "print(\"Digits \"+ str(intnum))\n",
    "        "
   ]
  },
  {
   "cell_type": "markdown",
   "metadata": {},
   "source": [
    "### (10) Write a program that reads a word and prints the number of vowels in the word. For this problem, assume that 'a', 'e', 'i', 'o', 'u', 'y' are vowels. For example, if you enter a word \"KAIST IMMBA\", the program prints \"4\"."
   ]
  },
  {
   "cell_type": "code",
   "execution_count": 18,
   "metadata": {},
   "outputs": [
    {
     "name": "stdout",
     "output_type": "stream",
     "text": [
      "KAIST IMMBA\n",
      "vowels 4\n"
     ]
    }
   ],
   "source": [
    "#your code here\n",
    "inputstr = input()\n",
    "vnum = 0\n",
    "\n",
    "for i in inputstr.lower():\n",
    "    if (i=='a')|(i=='e')|(i=='i')|(i=='o')|(i=='u')|(i=='y'):\n",
    "        vnum+=1\n",
    "\n",
    "print(\"vowels \"+ str(vnum))\n",
    "        \n"
   ]
  },
  {
   "cell_type": "markdown",
   "metadata": {},
   "source": [
    "### (11) Write a program to fill the list with 6 random numbers from 1 to 45 that do not overlap."
   ]
  },
  {
   "cell_type": "code",
   "execution_count": 82,
   "metadata": {},
   "outputs": [
    {
     "name": "stdout",
     "output_type": "stream",
     "text": [
      "[29, 42, 34, 19, 36, 15]\n"
     ]
    }
   ],
   "source": [
    "#your code here\n",
    "from random import randint \n",
    "randomlist = []\n",
    "i = 0\n",
    "while len(randomlist)< 6:\n",
    "    num = randint(1,45)\n",
    "    # randomlist에 중복된 숫자가 존재하는경우 continue     \n",
    "    if randomlist.count(num)==1:\n",
    "        continue\n",
    "    else :\n",
    "    # 중복되지 않는경우 randomlist에 append\n",
    "        randomlist.append(num)\n",
    "        \n",
    "print(randomlist)\n",
    "\n"
   ]
  },
  {
   "cell_type": "markdown",
   "metadata": {},
   "source": [
    "### (12) Write a program to guess a number between 1 to 9 (print the number of trials, too).\n",
    "Hint:<br/> \n",
    "(1) Assign a target number to guess using **randint** function.<br/> \n",
    "(2) Use a loop statement to get a number until you can guess the target number."
   ]
  },
  {
   "cell_type": "code",
   "execution_count": 93,
   "metadata": {},
   "outputs": [
    {
     "name": "stdout",
     "output_type": "stream",
     "text": [
      "Enter target number : ········\n",
      "you didn't entere 7\n",
      "you didn't entere 6\n",
      "you didn't entere 8\n",
      "you didn't entere 4\n",
      "you didn't entere 1\n",
      "you entered 3\n"
     ]
    }
   ],
   "source": [
    "#your code here\n",
    "import getpass \n",
    "\n",
    "targetnum = int(getpass.getpass(\"Enter target number : \"))\n",
    "inputnum = -99\n",
    "\n",
    "\n",
    "# targetnum과 \n",
    "while targetnum != inputnum:\n",
    "    randnum = randint(1,9)\n",
    "    # 입력한 값과 randint 값이 같지 않은 경우 while loop continue\n",
    "    if randnum != targetnum : \n",
    "        print(\"you didn't entere \"+ str(randnum))\n",
    "        continue\n",
    "    else :\n",
    "        inputnum = targetnum\n",
    "        print(\"you entered \"+ str(inputnum))\n",
    "        \n",
    "\n"
   ]
  },
  {
   "cell_type": "markdown",
   "metadata": {},
   "source": [
    "### (13) When you use an automated teller machine (ATM) with your bank card, you need to use a personal identification number (PIN) to access your account. If a user fails more than three times when entering the PIN, the machine will block the card.\n",
    "### Assume that the user's PIN is \"1234\" and write a program that askes the user for the PIN no more than three times, and does the following:\n",
    "   * If the user enters the right number, print a message saying \"Your PIN is correct\", and end the program.\n",
    "   * If the user enters a wrong number, print a message saying, \"Your PIN is incorrect\" and, if you have asked for the PIN less than three times, ask for it again.\n",
    "   * If the user enters a wrong number three times, print a message saying \"Your bank card is blocked\" and end the program."
   ]
  },
  {
   "cell_type": "code",
   "execution_count": 95,
   "metadata": {},
   "outputs": [
    {
     "name": "stdout",
     "output_type": "stream",
     "text": [
      "Enter your PIN number : 2345\n",
      "Your PIN is incorrect\n",
      "Enter your PIN number : 2345\n",
      "Your PIN is incorrect\n",
      "Enter your PIN number : 2345\n",
      "Your PIN is incorrect\n",
      "Your bank card is blocked\n"
     ]
    }
   ],
   "source": [
    "#your code here\n",
    "\n",
    "for i in range(3):\n",
    "    pinnum = input(\"Enter your PIN number : \")\n",
    "    # 정상적으로 입력한 경우 for loop종료\n",
    "    if pinnum ==\"1234\" :\n",
    "        print(\"Your PIN is correct\")\n",
    "        break\n",
    "    else : \n",
    "        print(\"Your PIN is incorrect\")\n",
    "    # 3번 오입력한 경우 아래 문구 출력\n",
    "    if i==2:\n",
    "        print(\"Your bank card is blocked\")\n",
    "    \n"
   ]
  },
  {
   "cell_type": "markdown",
   "metadata": {},
   "source": [
    "### (14) Let's assume that there is a game where you throw 3 dice with 1 to 6 eyes and win prizes according to the following rules.\n",
    "\n",
    "* rule 1: If three same eyes come out, you will receive a prize of 10,000 + (the same eyes) X 1,000 dollars.\n",
    "* rule 2: If only two eyes are same, you will receive a prize of 1,000 + (the same eyes) X 100 dollars.\n",
    "* rule 3: If all eyes are different, you will receive a prize of 100 X (the largest of them) dollars.\n",
    "\n",
    "For example, when you get {5, 5, 5}, then you will get 10,000 + 5 X 1,000 = 15,000 dollars.    \n",
    "Or, when you get {3, 3, 2}, then you will get 1,000 + 3 X 100 = 1,300 dollars.  \n",
    "Or, when you get {1, 2, 3}, then you will get 100 X 3 = 300 dollars.\n",
    "\n",
    "### Write a program that prints out the prizes of the people with the most prizes when 5 players participate in the game."
   ]
  },
  {
   "cell_type": "code",
   "execution_count": 97,
   "metadata": {},
   "outputs": [],
   "source": [
    "#your code here\n",
    "\n",
    "from random import randint\n",
    "\n",
    "# name    : get_key\n",
    "# input   : val(int), dictionary(dupdic)\n",
    "# output  : maxval(int)\n",
    "# func.   : 딕셔너리(dupdic)에서 value 가 val 인 키값 중 가장 큰 key값을 출력하는 함수\n",
    "def get_key(val, dupdic):\n",
    "    maxval=-99\n",
    "    for key, value in dupdic.items():\n",
    "         if val == value:\n",
    "            if maxval<key:\n",
    "                maxval=key\n",
    "    return maxval\n",
    "\n",
    "# name    : startGame\n",
    "# input   : \n",
    "# output  : prize(int)\n",
    "# func.   : 각 플레이어 별 prize를 계산\n",
    "\n",
    "def startGame():\n",
    "    dicelist=[]\n",
    "    prize = 0\n",
    "    dupnumcount={}\n",
    "    dupcount = 0\n",
    "    \n",
    "    # 주사위 세번 던짐\n",
    "    for i in range(3):\n",
    "        num = randint(1,6)\n",
    "        dicelist.append(num)\n",
    "    \n",
    "    # 위 결과에 대해 주사위 눈과 출력횟수로 딕셔너리에 저장\n",
    "    # ex) 1 1 5 >> {1:2, 5:1}\n",
    "    for i in range(3):\n",
    "        dupnumcount[dicelist[i]] = dicelist.count(dicelist[i])\n",
    "        \n",
    "    # 주사위 눈과 출력횟수를 가진 딕셔너리에서 max(출력횟수) 저장 \n",
    "    dupcount = max(list(dupnumcount.values()))\n",
    "    \n",
    "    # max(출력횟수) 기준으로 score 계산 \n",
    "    if dupcount == 3:\n",
    "        # max(출력횟수) 가 3인 주사위 눈 확인\n",
    "        key = get_key(3, dupnumcount)\n",
    "        prize = 10000 +  (key*1000)\n",
    "    elif dupcount ==2:\n",
    "        # max(출력횟수) 가 2인 주사위 눈 확인\n",
    "        key = get_key(2, dupnumcount)\n",
    "        prize = 1000 +  (key*100)\n",
    "    else : \n",
    "        # max(출력횟수) 가 1인 주사위 눈 확인\n",
    "        key = get_key(1, dupnumcount)\n",
    "        prize = 100 +  (key*10)\n",
    "\n",
    "    return prize"
   ]
  },
  {
   "cell_type": "code",
   "execution_count": 98,
   "metadata": {},
   "outputs": [
    {
     "name": "stdout",
     "output_type": "stream",
     "text": [
      "Enter gamer's name : A\n",
      "Enter gamer's name : B\n",
      "Enter gamer's name : C\n",
      "Enter gamer's name : D\n",
      "Enter gamer's name : E\n",
      "[('E', 160), ('D', 150), ('C', 1100), ('B', 1100), ('A', 160)]\n"
     ]
    }
   ],
   "source": [
    "gamerScore = {}\n",
    "# 게임 시작 \n",
    "for i in range(5):\n",
    "    name = input(\"Enter gamer's name : \")\n",
    "    # 게임 결과 저장 \n",
    "    gamerScore[name] = startGame()\n",
    "    \n",
    "# 게임 결과를 score 기준으로 정렬\n",
    "print(sorted(gamerScore.items(), reverse=True))"
   ]
  },
  {
   "cell_type": "markdown",
   "metadata": {},
   "source": [
    "### (15) Write a program that computes information related to a sequence of grades obtained from the input.\n",
    "   * Get a sequence of grades of 5 students from the input function (between 0 and 100)\n",
    "   * Determine whether the grade passing or failing (pass condition: 70.0)\n",
    "   * Find the max and min grades\n",
    "   * Find the average grade.\n",
    "    \n",
    "   * At the end of the program, you should print the results,\n",
    "       * (1) The average grade is:\n",
    "       * (2) Number of passing grades is\n",
    "       * (3) Number of failing grades is\n",
    "       * (4) The maximum grade is\n",
    "       * (5) The minimum grade is"
   ]
  },
  {
   "cell_type": "code",
   "execution_count": 100,
   "metadata": {},
   "outputs": [
    {
     "name": "stdout",
     "output_type": "stream",
     "text": [
      "Enter score : 77\n",
      "Enter score : 74\n",
      "Enter score : 2\n",
      "Enter score : 2\n",
      "Enter score : 2\n",
      "(1) The average grade is: 31.4\n",
      "(2) Number of passing grades is 2\n",
      "(3) Number of failing grades is 3\n",
      "(4) The maximum grade is 77\n",
      "(5) The minimum grade is 2\n"
     ]
    }
   ],
   "source": [
    "#your code here\n",
    "scoreList = []\n",
    "failcnt = 0\n",
    "TF=True\n",
    "\n",
    "for i in range(5):\n",
    "    \n",
    "    score = int(input(\"Enter score : \"))\n",
    "    # input 값 검증 \n",
    "    if (score <0) | (score >100):\n",
    "        print(\"score is not correct!\")\n",
    "        TF=False\n",
    "        break\n",
    "    # 이상 없을 시 저장 \n",
    "    scoreList.append(score)\n",
    "\n",
    "# input 값 이상 없는 경우 fail 한 학생 수 확인 \n",
    "if TF : \n",
    "    for i in scoreList :\n",
    "        if i < 70 : \n",
    "            failcnt+=1\n",
    "        \n",
    "    # 결과 출력 \n",
    "    print('(1) The average grade is: '+ str(sum(scoreList)/len(scoreList)))\n",
    "    print('(2) Number of passing grades is '+ str(len(scoreList) - failcnt))\n",
    "    print('(3) Number of failing grades is '+ str(failcnt))\n",
    "    print('(4) The maximum grade is '+ str(max(scoreList)))\n",
    "    print('(5) The minimum grade is '+ str(min(scoreList)))\n",
    "\n",
    "\n"
   ]
  },
  {
   "cell_type": "markdown",
   "metadata": {},
   "source": [
    "### (16) The *Fibonacci numbers* are defined by the sequence\n",
    "\n",
    "$f_1 = 1$<br/>\n",
    "$f_2 = 1$<br/>\n",
    "$f_n = f_{n-1} + f_{n-2}$\n",
    "\n",
    "Reformulate that as \n",
    "\n",
    "fold1 = 1<br/>\n",
    "fold2 = 1<br/>\n",
    "fnew = fold1 + fold2\n",
    "\n",
    "### After that, discard fold2, which is no longer needed, and set fold2 to fold1 and fold1 to fnew. Implement a program that prompts that asks the user for an integer n and prints the nth Fibonacci number, using the above algorithm."
   ]
  },
  {
   "cell_type": "code",
   "execution_count": 40,
   "metadata": {},
   "outputs": [
    {
     "name": "stdout",
     "output_type": "stream",
     "text": [
      "Enter number : 6\n",
      "8\n"
     ]
    }
   ],
   "source": [
    "#your code here\n",
    "n = int(input(\"Enter number : \"))\n",
    "\n",
    "def fibonacci(n):\n",
    "    if n <=2 : \n",
    "        return 1\n",
    "    else :\n",
    "#         print(n, fibonacci(n-1)+ fibonacci(n-2))\n",
    "        return fibonacci(n-1)+ fibonacci(n-2)\n",
    "    \n",
    "        \n",
    "print(fibonacci(n))"
   ]
  },
  {
   "cell_type": "markdown",
   "metadata": {},
   "source": [
    "### (17) Write a program that decodes the given Morse code (dot: . dash: -) received in string format as an English sentence. (A single space is separated between letters and slashes are separated between words.)\n",
    "\n",
    "| Char| Code | Char| Code |\n",
    "|:---:|:----:|:---:|:----:|\n",
    "|  A  | .-   |  N  | -.   |\n",
    "|  B  | -... |  O  | ---  |\n",
    "|  C  | -.-. |  P  | .--. |\n",
    "|  D  | -..  |  Q  | --.- |\n",
    "|  E  | .    |  R  | .-.  |\n",
    "|  F  | ..-. |  S  | ...  |\n",
    "|  G  | --.  |  T  | -    |\n",
    "|  H  | .... |  U  | ..-  |\n",
    "|  I  | ..   |  V  | ...- |\n",
    "|  J  | .--- |  W  | .--  |\n",
    "|  K  | -.-  |  X  | -..- |\n",
    "|  L  | .-.. |  Y  | -.-- |\n",
    "|  M  | --   |  Z  | --.. |"
   ]
  },
  {
   "cell_type": "code",
   "execution_count": 41,
   "metadata": {},
   "outputs": [
    {
     "name": "stdout",
     "output_type": "stream",
     "text": [
      "WELCOME KAIST IMMBA"
     ]
    }
   ],
   "source": [
    "Morse = '.-- . .-.. -.-. --- -- . / -.- .- .. ... - / .. -- -- -... .-'\n",
    "\n",
    "defined = {'.-':'A','-...':'B','-.-.':'C','-..':'D','.':'E','..-.':'F',\n",
    "    '--.':'G','....':'H','..':'I','.---':'J','-.-':'K','.-..':'L',\n",
    "    '--':'M','-.':'N','---':'O','.--.':'P','--.-':'Q','.-.':'R',\n",
    "    '...':'S','-':'T','..-':'U','...-':'V','.--':'W','-..-':'X',\n",
    "    '-.--':'Y','--..':'Z','':' ', \n",
    "    '－・・・・－':'─', '・－・－・－' :'.' , '－－・・－－':',',\n",
    "    '・－・－・・'  :  '「', '－・－－・': '（' , '－・－－・－':  '）' ,  '・・－－・・': '?',\n",
    "    '－・・－・' :'/'    \n",
    "    }\n",
    "\n",
    "def morse_code(morse):\n",
    "    for i in morse.split(' '): \n",
    "        # / 를 만난 경우 공백처리 \n",
    "        if i== '/' : \n",
    "            print(' ',end='')\n",
    "        # 이외의 경우 미리 정의된 모스 부호 딕셔너리에서 값 추출\n",
    "        else :\n",
    "            print(defined[i],end='')\n",
    "\n",
    "morse = Morse\n",
    "morse_code(morse)      "
   ]
  },
  {
   "cell_type": "markdown",
   "metadata": {},
   "source": [
    "### (18) Write a password generator in Python. Strong passwords have a mix of lowercase letters, uppercase letters, numbers, and symbols. The passwords should be random, generating a new password every time the user asks for a new password. "
   ]
  },
  {
   "cell_type": "code",
   "execution_count": 105,
   "metadata": {},
   "outputs": [
    {
     "name": "stdout",
     "output_type": "stream",
     "text": [
      "ava&2'yP7ha\n"
     ]
    }
   ],
   "source": [
    "# your code here\n",
    "length    = -99\n",
    "uppercnt  = 0\n",
    "lowercnt  = 0\n",
    "numcnt    = 0\n",
    "symbolcnt = 0\n",
    "pwdlist = []\n",
    "pwd = []\n",
    "\n",
    "# 대문자, 소문자, 숫자, 특수문자\n",
    "# 8자 이상 12자 이하로 제한\n",
    "while (length<8)|(length>12):\n",
    "    uppercnt = randint(1,6)\n",
    "    lowercnt = randint(1,6)\n",
    "    numcnt = randint(1,6)\n",
    "    symbolcnt = randint(1,6)\n",
    "    \n",
    "    # 대문자, 소문자, 숫자, 특수문자의 개수합이 8보다 크고 12보다 작다면 while loop 종료\n",
    "    if ((uppercnt+lowercnt+numcnt+symbolcnt)>=8)&((uppercnt+lowercnt+numcnt+symbolcnt)<=12):\n",
    "            length = uppercnt+lowercnt+numcnt+symbolcnt\n",
    "            break\n",
    "\n",
    "# 각 문자별 개수를 기준으로 비밀번호 생성 \n",
    "\n",
    "# 아스키코드 65 부터 90 까지는 대문자\n",
    "for i in range(uppercnt):\n",
    "    pwdlist.append(chr(randint(65,90)))\n",
    "    \n",
    "# 아스키코드 97부터 122 까지는 소문자  \n",
    "for i in range(lowercnt):\n",
    "    pwdlist.append(chr(randint(97,122)))\n",
    "\n",
    "# 아스키코드 48부터 57까지는 숫자  \n",
    "for i in range(numcnt):\n",
    "    pwdlist.append(chr(randint(48,57)))\n",
    "    \n",
    "# 아스키코드 33부터 47까지 특수문자 \n",
    "for i in range(symbolcnt):\n",
    "    pwdlist.append(chr(randint(33,47)))\n",
    "    \n",
    "# 위에서 추출된 비밀번호를 무작위로 섞기 위해 배열 생성 \n",
    "randomlist = []\n",
    "\n",
    "while len(randomlist)<length:\n",
    "    num = randint(0,length-1)\n",
    "    # randint를 통해서 추출된 num이 중복된 경우 continue\n",
    "    if randomlist.count(num)==1:\n",
    "        continue\n",
    "    else :\n",
    "        # randint를 통해서 추출된 num이 중복되지 않은 경우 해당 num을 인덱스로 가지는 문자를 pwd배열에 입력 \n",
    "        randomlist.append(num)\n",
    "        pwd.append(pwdlist[num])\n",
    "\n",
    "# 생성된 암호 출력 \n",
    "print(''.join(pwd))\n",
    "    "
   ]
  },
  {
   "cell_type": "markdown",
   "metadata": {},
   "source": [
    "### (19) When the price of coffee is as follows, \n",
    "\n",
    "| Coffee | Price |\n",
    "|:---:|:----:|\n",
    "|  Americano  | 2500 |  \n",
    "|  Cafe Latte  | 3000 |  \n",
    "|  Cappuccino  | 3000 |  \n",
    "|  Cafe Mocha  | 3500 |  \n",
    "|  Caramel Macchiato  | 4000 |  \n",
    "|  Hot Chocolate  | 2800 |  \n",
    "\n",
    "### construct it as a dictionary and print the price for the coffee after receiving an order from the user."
   ]
  },
  {
   "cell_type": "code",
   "execution_count": 75,
   "metadata": {},
   "outputs": [
    {
     "name": "stdout",
     "output_type": "stream",
     "text": [
      "Chocolate\n",
      "Please tell me one more time sir\n"
     ]
    }
   ],
   "source": [
    "# your code here\n",
    "\n",
    "coffee_price = {}\n",
    "TF=False\n",
    "# 커피 가격 딕셔너리에 저장\n",
    "coffee_price[\"americano\"]          = 2500\n",
    "coffee_price[\"cafelatte\"]          = 3000\n",
    "coffee_price[\"cappuccino\"]         = 3000\n",
    "coffee_price[\"cafemocha\"]          = 3500\n",
    "coffee_price[\"caramelmacchiato\"]   = 4000\n",
    "coffee_price[\"hotchocolate\"]       = 2800\n",
    "\n",
    "# 주문 입력\n",
    "coffeeOrder = input().lower().replace(' ', '')\n",
    "\n",
    "# 입력된 커피 이름과 같은 key값의 value 출력\n",
    "for key, value in coffee_price.items():\n",
    "    if key == coffeeOrder : \n",
    "        TF=True\n",
    "        print(\"It's \"+ str(value)+\" won sir\")\n",
    "\n",
    "# 같은 커피가 없다면 아래 출력 \n",
    "if ~TF:\n",
    "    print(\"Please tell me one more time sir\")\n",
    "\n",
    "\n",
    "            \n"
   ]
  },
  {
   "cell_type": "markdown",
   "metadata": {},
   "source": [
    "### (20) Write a program that receives a dollar, yen, euro, or yuan amount from the user and converts it to won. The exchange rate for each currency is as follows. \n",
    "\n",
    "| Currency | rate |\n",
    "|:---:|:----:|\n",
    "|  dollar  | 1194.62 |  \n",
    "|  yen  | 10.3484 |  \n",
    "|  euro  | 1366.25 |  \n",
    "|  yuan  | 187.76 |  \n",
    "\n",
    "### Assume that the user enters a space between the amount and the currency name, such as 100 dollars, 100 yen, 100 euros, or 100 yuan."
   ]
  },
  {
   "cell_type": "code",
   "execution_count": 107,
   "metadata": {},
   "outputs": [
    {
     "name": "stdout",
     "output_type": "stream",
     "text": [
      "100 s\n",
      "please input currency correctly!\n"
     ]
    }
   ],
   "source": [
    "# your code here\n",
    "inputstr = input()\n",
    "currency_rate = {}\n",
    "result = 0 \n",
    "TF=True\n",
    "\n",
    "# 통화와 환율을 저장한 딕셔너리 선언 \n",
    "currency_rate[\"dollar\"] = 1194.62\n",
    "currency_rate[\"yen\"]    = 10.3484\n",
    "currency_rate[\"euro\"]   = 1366.25\n",
    "currency_rate[\"yuan\"]   = 187.76\n",
    "\n",
    "# input 내역에서 숫자와 통화 분리\n",
    "money = int(inputstr.split(' ')[0])\n",
    "currency = inputstr.split(' ')[1]\n",
    "\n",
    "# 입력받은 통화와 딕셔너리 비교 (dollars와 같이 복수형으로 들어오는 경우 단수형으로 치환)\n",
    "if (currency.count(\"dollar\")== 1) : \n",
    "    currency =\"dollar\"\n",
    "elif (currency.count(\"yen\")== 1) : \n",
    "    currency =\"yen\"\n",
    "elif (currency.count(\"euro\")== 1) : \n",
    "    currency =\"euro\"\n",
    "elif (currency.count(\"yuan\")== 1) : \n",
    "    currency =\"yuan\"\n",
    "else :\n",
    "    # 일치하는 통화가 없다면 프로그램 종료\n",
    "    print(\"please input currency correctly!\")\n",
    "    TF=False\n",
    "\n",
    "if TF : \n",
    "    # 일치하는 통화가 있다면 해당 통화 기준으로 결과 출력 \n",
    "    for key, value in currency_rate.items():\n",
    "        if key == currency : \n",
    "            result = money * value\n",
    "\n",
    "    print(\"It's \"+ str(result)+\" won\")\n"
   ]
  },
  {
   "cell_type": "code",
   "execution_count": null,
   "metadata": {},
   "outputs": [],
   "source": []
  },
  {
   "cell_type": "code",
   "execution_count": null,
   "metadata": {},
   "outputs": [],
   "source": []
  }
 ],
 "metadata": {
  "kernelspec": {
   "display_name": "Python 3",
   "language": "python",
   "name": "python3"
  },
  "language_info": {
   "codemirror_mode": {
    "name": "ipython",
    "version": 3
   },
   "file_extension": ".py",
   "mimetype": "text/x-python",
   "name": "python",
   "nbconvert_exporter": "python",
   "pygments_lexer": "ipython3",
   "version": "3.7.6"
  }
 },
 "nbformat": 4,
 "nbformat_minor": 2
}
