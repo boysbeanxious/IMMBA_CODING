{
 "cells": [
  {
   "cell_type": "markdown",
   "metadata": {},
   "source": [
    "# Lecture 4 : Functions"
   ]
  },
  {
   "cell_type": "markdown",
   "metadata": {},
   "source": [
    "* A function packages a computation consisting of multiple steps into a form that can be easily understood and reused. \n",
    "* In this lecture, you will learn how to design and implement your own functions using the process of stepwise refinement, you will be able to break up complex tasks into sets of cooperating functions.\n",
    "\n",
    "## 1. Functions as Black Boxes"
   ]
  },
  {
   "cell_type": "markdown",
   "metadata": {},
   "source": [
    "<!-- for Jupyter Notebook user -->\n",
    "<img src=\"lecture4-figure1.png\" style=\"height:300px\" align=\"left\">\n",
    "\n",
    "<!-- for Colab user -->\n",
    "<!--![](https://drive.google.com/uc?export=view&id=1rMgBnBaS_55n7eNG0k5EhzBkUATLcoSh)-->\n",
    "\n",
    "* A function is a sequence of instructions with a name.\n",
    "* You call a function in order to execute its instructions.\n",
    "* By using the expression round(6.8275, 2), your program calls the round function, asking it to round 6.8275 to two decimal digits."
   ]
  },
  {
   "cell_type": "code",
   "execution_count": 1,
   "metadata": {},
   "outputs": [],
   "source": [
    "price = round(6.8275, 2)"
   ]
  },
  {
   "cell_type": "code",
   "execution_count": null,
   "metadata": {},
   "outputs": [],
   "source": []
  },
  {
   "cell_type": "markdown",
   "metadata": {},
   "source": [
    "## 2. Implementing and Tesing Functions"
   ]
  },
  {
   "cell_type": "markdown",
   "metadata": {},
   "source": [
    "* We will start with a very simple example: a function to compute the volume of a cube with a given side length.\n",
    "* When writing this function, you need to \n",
    "    * Pick a name for the function (cubeVolume).\n",
    "    * Define a variable for each argument (sideLength). These variables are called the **parameter variables**."
   ]
  },
  {
   "cell_type": "code",
   "execution_count": 2,
   "metadata": {},
   "outputs": [],
   "source": [
    "def cubeVolume(sideLength):\n",
    "    volume = sideLength ** 3\n",
    "    return volume"
   ]
  },
  {
   "cell_type": "markdown",
   "metadata": {},
   "source": [
    "* You can test/call the function."
   ]
  },
  {
   "cell_type": "code",
   "execution_count": 3,
   "metadata": {},
   "outputs": [
    {
     "data": {
      "text/plain": [
       "27"
      ]
     },
     "execution_count": 3,
     "metadata": {},
     "output_type": "execute_result"
    }
   ],
   "source": [
    "cubeVolume(3)"
   ]
  },
  {
   "cell_type": "markdown",
   "metadata": {},
   "source": [
    "### Programs that Contain Functions"
   ]
  },
  {
   "cell_type": "markdown",
   "metadata": {},
   "source": [
    "* What is the problem with this code?"
   ]
  },
  {
   "cell_type": "code",
   "execution_count": 4,
   "metadata": {},
   "outputs": [],
   "source": [
    "# print(squareArea(20))\n",
    "\n",
    "# def squareArea(sideLength):\n",
    "#     area = sideLength ** 2\n",
    "#     return area"
   ]
  },
  {
   "cell_type": "markdown",
   "metadata": {},
   "source": [
    "* A function can be called from within another function before the former has been defined."
   ]
  },
  {
   "cell_type": "code",
   "execution_count": 5,
   "metadata": {},
   "outputs": [
    {
     "name": "stdout",
     "output_type": "stream",
     "text": [
      "4\n"
     ]
    }
   ],
   "source": [
    "\n",
    "def squareArea(sideLength):\n",
    "    area = sideLength ** 2\n",
    "    return area\n",
    "\n",
    "def main():\n",
    "    result = squareArea(2)\n",
    "    print(result)\n",
    "\n",
    "\n",
    "main()\n",
    "# 순서가 중요하다"
   ]
  },
  {
   "cell_type": "markdown",
   "metadata": {},
   "source": [
    "### One more thing: Recursion function\n",
    "* Python accepts function recursion, which means a defined function can call itself."
   ]
  },
  {
   "cell_type": "code",
   "execution_count": 6,
   "metadata": {},
   "outputs": [],
   "source": [
    "def factorial(n):\n",
    "    if n==0:\n",
    "        return 1\n",
    "    else:\n",
    "        return n*factorial(n-1)"
   ]
  },
  {
   "cell_type": "code",
   "execution_count": null,
   "metadata": {},
   "outputs": [],
   "source": []
  },
  {
   "cell_type": "markdown",
   "metadata": {},
   "source": [
    "## 3. Return Values"
   ]
  },
  {
   "cell_type": "markdown",
   "metadata": {},
   "source": [
    "* Functions can (optionally) return one value.\n",
    "* A return statement does two things:\n",
    "    * Immediately terminates the function\n",
    "    * Passes the return value back to the calling function"
   ]
  },
  {
   "cell_type": "code",
   "execution_count": 7,
   "metadata": {},
   "outputs": [],
   "source": [
    "def cubeVolume(sideLength) :\n",
    "    volume = sideLength ** 3\n",
    "    return volume"
   ]
  },
  {
   "cell_type": "markdown",
   "metadata": {},
   "source": [
    "### Multiple Return Statement"
   ]
  },
  {
   "cell_type": "markdown",
   "metadata": {},
   "source": [
    "* A function can use multiple return statements\n",
    "    * But every branch must have a return statement"
   ]
  },
  {
   "cell_type": "code",
   "execution_count": 8,
   "metadata": {},
   "outputs": [],
   "source": [
    "def cubeVolume(sideLength):\n",
    "    if (sideLength < 0): \n",
    "        return 0 \n",
    "    return sideLength * 3"
   ]
  },
  {
   "cell_type": "markdown",
   "metadata": {},
   "source": [
    "* Alternative to multiple returns (e.g., one for each branch):\n",
    "    * You can avoid multiple returns by storing the function result in a variable that you return in the last statement of the function.\n",
    "    * Make sure all conditions are handled."
   ]
  },
  {
   "cell_type": "code",
   "execution_count": 9,
   "metadata": {},
   "outputs": [],
   "source": [
    "def cubeVolume(sideLength) :\n",
    "    if sideLength >= 0:\n",
    "        volume = sideLength ** 3\n",
    "    else :\n",
    "        volume = 0\n",
    "    return volume"
   ]
  },
  {
   "cell_type": "markdown",
   "metadata": {},
   "source": [
    "## 4. Functions without Return Values"
   ]
  },
  {
   "cell_type": "markdown",
   "metadata": {},
   "source": [
    "* Let's consider a program to print a string in a box,"
   ]
  },
  {
   "cell_type": "code",
   "execution_count": 10,
   "metadata": {},
   "outputs": [],
   "source": [
    "def boxString(contents):\n",
    "    n = len(contents)\n",
    "    print(\"-\" * (n+2))\n",
    "    print(\"!\" + contents + \"!\")\n",
    "    print(\"-\" * (n+2))"
   ]
  },
  {
   "cell_type": "markdown",
   "metadata": {},
   "source": [
    "* You can call the function"
   ]
  },
  {
   "cell_type": "code",
   "execution_count": 11,
   "metadata": {},
   "outputs": [
    {
     "name": "stdout",
     "output_type": "stream",
     "text": [
      "------------\n",
      "!Helloworld!\n",
      "------------\n"
     ]
    }
   ],
   "source": [
    "boxString(\"Helloworld\")"
   ]
  },
  {
   "cell_type": "markdown",
   "metadata": {},
   "source": [
    "* Do not call like this"
   ]
  },
  {
   "cell_type": "code",
   "execution_count": null,
   "metadata": {},
   "outputs": [],
   "source": []
  },
  {
   "cell_type": "markdown",
   "metadata": {},
   "source": [
    "## 5. Variable Scope"
   ]
  },
  {
   "cell_type": "markdown",
   "metadata": {},
   "source": [
    "* Variables can be declared:\n",
    "    * Inside a function\n",
    "        * Known as ‘local variables’\n",
    "        * Only available inside this function\n",
    "    * Outside of a function\n",
    "        * Sometimes called ‘global scope’\n",
    "        * Can be used (and changed) by code in any function"
   ]
  },
  {
   "cell_type": "code",
   "execution_count": 12,
   "metadata": {},
   "outputs": [],
   "source": [
    "def get_Sum() :\n",
    "    Sum = 0\n",
    "    for i in range(11) :\n",
    "        square = i * i\n",
    "        Sum = Sum + square\n",
    "    print(square, Sum)"
   ]
  },
  {
   "cell_type": "code",
   "execution_count": 13,
   "metadata": {},
   "outputs": [
    {
     "name": "stdout",
     "output_type": "stream",
     "text": [
      "100 385\n"
     ]
    }
   ],
   "source": [
    "get_Sum()"
   ]
  },
  {
   "cell_type": "markdown",
   "metadata": {},
   "source": [
    "## Exercise"
   ]
  },
  {
   "cell_type": "markdown",
   "metadata": {},
   "source": [
    "1. Write a function that computes the larger of two integers."
   ]
  },
  {
   "cell_type": "code",
   "execution_count": 17,
   "metadata": {},
   "outputs": [
    {
     "name": "stdout",
     "output_type": "stream",
     "text": [
      "152.5791387639164\n"
     ]
    }
   ],
   "source": [
    "# your code here\n",
    "from random import randint\n",
    "from random import random\n",
    "\n",
    "def getLargeNum(a,b) :\n",
    "    if a> b : \n",
    "        return a\n",
    "    else :\n",
    "        return b \n",
    "a = randint(1,16)\n",
    "b = randint(1,16)\n",
    "print(getLargeNum(random()*300,random()*300))"
   ]
  },
  {
   "cell_type": "markdown",
   "metadata": {},
   "source": [
    "2. Write a function that returns the average of the arguments."
   ]
  },
  {
   "cell_type": "code",
   "execution_count": 18,
   "metadata": {},
   "outputs": [
    {
     "data": {
      "text/plain": [
       "3.0"
      ]
     },
     "execution_count": 18,
     "metadata": {},
     "output_type": "execute_result"
    }
   ],
   "source": [
    "# your code here\n",
    "\n",
    "def getAvg(a):\n",
    "    return sum(a)/len(a)\n",
    "    \n",
    "testList = [1,2,3,4,5]\n",
    "\n",
    "getAvg(testList)\n"
   ]
  },
  {
   "cell_type": "markdown",
   "metadata": {},
   "source": [
    "3. Write a function to reverse a given string.\n",
    "\n",
    "    Sample String : \"abcd1234\"<br/>\n",
    "    Expected Output : \"4321dcba\""
   ]
  },
  {
   "cell_type": "code",
   "execution_count": 19,
   "metadata": {},
   "outputs": [
    {
     "data": {
      "text/plain": [
       "[5, 4, 3, 2, 1]"
      ]
     },
     "execution_count": 19,
     "metadata": {},
     "output_type": "execute_result"
    }
   ],
   "source": [
    "# your code here\n",
    "\n",
    "def getReverse(a):\n",
    "    a.reverse()\n",
    "    return(a)\n",
    "    \n",
    "testList = [1,2,3,4,5]\n",
    "\n",
    "getReverse(testList)"
   ]
  },
  {
   "cell_type": "code",
   "execution_count": 21,
   "metadata": {},
   "outputs": [
    {
     "data": {
      "text/plain": [
       "'4321dcba'"
      ]
     },
     "execution_count": 21,
     "metadata": {},
     "output_type": "execute_result"
    }
   ],
   "source": [
    "# your code here\n",
    "\n",
    "def getReverse(a):\n",
    "    reverseStr=\"\"\n",
    "    for i in range(len(a)):\n",
    "        lastIdx = len(a)-1\n",
    "        reverseStr+=a[lastIdx-i]\n",
    "    return reverseStr\n",
    "    \n",
    "testStr = \"abcd1234\"\n",
    "\n",
    "getReverse(testStr)"
   ]
  },
  {
   "cell_type": "markdown",
   "metadata": {},
   "source": [
    "## References\n",
    "* Horstmann, C. S., & Necaise, R. D. (2015). Python for everyone. Wiley Publishing.\n",
    "* 박진수 (2020). 바로 쓰는 파이썬. 서울대학교출판문화원\n",
    "* Python for Everybody Specialization on Coursera: https://www.coursera.org/specializations/python\n",
    "* figure1 ref: https://www.thatsoftwaredude.com/content/8881/what-is-blackbox-code-and-why-its-important"
   ]
  },
  {
   "cell_type": "code",
   "execution_count": null,
   "metadata": {},
   "outputs": [],
   "source": []
  }
 ],
 "metadata": {
  "kernelspec": {
   "display_name": "Python 3",
   "language": "python",
   "name": "python3"
  },
  "language_info": {
   "codemirror_mode": {
    "name": "ipython",
    "version": 3
   },
   "file_extension": ".py",
   "mimetype": "text/x-python",
   "name": "python",
   "nbconvert_exporter": "python",
   "pygments_lexer": "ipython3",
   "version": "3.7.6"
  }
 },
 "nbformat": 4,
 "nbformat_minor": 2
}
