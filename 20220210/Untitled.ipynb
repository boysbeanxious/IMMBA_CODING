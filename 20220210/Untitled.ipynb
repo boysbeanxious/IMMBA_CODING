{
 "cells": [
  {
   "cell_type": "code",
   "execution_count": 6,
   "metadata": {},
   "outputs": [
    {
     "name": "stdout",
     "output_type": "stream",
     "text": [
      "2345\n",
      "2345\n",
      "2345\n",
      "2345\n"
     ]
    }
   ],
   "source": [
    "real_pin=1234\n",
    "\n",
    "trial_num = 0\n",
    "\n",
    "input_pin = int(input('pin을 입력해주세요'))\n",
    "message = ['eq', 'neq', 'block']\n",
    "\n",
    "\n",
    "while real_pin != input_pin:\n",
    "    message[1]\n",
    "    trial_num+=1\n",
    "    input_int = int(input())\n",
    "    if trial_num ==3 :\n",
    "        message[2]\n",
    "        break\n",
    "    \n",
    "    "
   ]
  },
  {
   "cell_type": "code",
   "execution_count": null,
   "metadata": {},
   "outputs": [],
   "source": []
  }
 ],
 "metadata": {
  "kernelspec": {
   "display_name": "Python 3",
   "language": "python",
   "name": "python3"
  },
  "language_info": {
   "codemirror_mode": {
    "name": "ipython",
    "version": 3
   },
   "file_extension": ".py",
   "mimetype": "text/x-python",
   "name": "python",
   "nbconvert_exporter": "python",
   "pygments_lexer": "ipython3",
   "version": "3.7.6"
  }
 },
 "nbformat": 4,
 "nbformat_minor": 4
}
