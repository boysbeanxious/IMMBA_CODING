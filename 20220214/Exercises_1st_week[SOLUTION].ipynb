{
 "cells": [
  {
   "cell_type": "markdown",
   "metadata": {},
   "source": [
    "Exercises\n",
    "========"
   ]
  },
  {
   "cell_type": "markdown",
   "metadata": {},
   "source": [
    "### (1) Display the sum of 5 + 10, using two variables: x and y."
   ]
  },
  {
   "cell_type": "code",
   "execution_count": 1,
   "metadata": {},
   "outputs": [
    {
     "name": "stdout",
     "output_type": "stream",
     "text": [
      "15\n"
     ]
    }
   ],
   "source": [
    "# your code here\n",
    "\n",
    "x = 5\n",
    "y = 10\n",
    "\n",
    "print(x+y)"
   ]
  },
  {
   "cell_type": "markdown",
   "metadata": {},
   "source": [
    "### (2) Write a program that reads a number between 10,000 and 99,999 from the user, where the user enters a comma in the input. Then print the number without a comma. \n",
    "\n",
    "### Here is a sample example; the user input is in **bold**:\n",
    "\n",
    "Please enter an integer between 10,000 and 99,999: **23,456**\n",
    "<br/>23456\n",
    "    \n",
    "   Hint: Read the input as a string. Turn the strings consisting of the first two characters and the last three characters into numbers, and combine them."
   ]
  },
  {
   "cell_type": "code",
   "execution_count": 2,
   "metadata": {},
   "outputs": [
    {
     "name": "stdout",
     "output_type": "stream",
     "text": [
      "Please enter an integer between 10,000 and 99,999: 22,222\n",
      "22222\n"
     ]
    }
   ],
   "source": [
    "# your code here\n",
    "\n",
    "number = input('Please enter an integer between 10,000 and 99,999: ')\n",
    "first = number[0:2]\n",
    "last = number[3:6]\n",
    "print(first+last)"
   ]
  },
  {
   "cell_type": "markdown",
   "metadata": {},
   "source": [
    "### (3) Write a program that reads a five-digit positive integer and breaks it into a sequence of individual digits. For example, the input 16384 is displayed as\n",
    "\n",
    "1 6 3 8 4"
   ]
  },
  {
   "cell_type": "code",
   "execution_count": 3,
   "metadata": {},
   "outputs": [
    {
     "name": "stdout",
     "output_type": "stream",
     "text": [
      "1 6 3 8 4 "
     ]
    }
   ],
   "source": [
    "# your code here\n",
    "\n",
    "integer = 16384\n",
    "sequence = str(integer)\n",
    "\n",
    "for i in sequence:\n",
    "    print(i, end=' ')"
   ]
  },
  {
   "cell_type": "code",
   "execution_count": 4,
   "metadata": {},
   "outputs": [
    {
     "name": "stdout",
     "output_type": "stream",
     "text": [
      "1 6 3 8 4\n"
     ]
    }
   ],
   "source": [
    "integer = 16384\n",
    "sequence1 = integer%10\n",
    "integer = integer//10\n",
    "sequence2 = integer%10\n",
    "integer = integer//10\n",
    "sequence3 = integer%10\n",
    "integer = integer//10\n",
    "sequence4 = integer%10\n",
    "integer = integer//10\n",
    "sequence5 = integer%10\n",
    "\n",
    "print(sequence5, sequence4, sequence3, sequence2, sequence1)"
   ]
  },
  {
   "cell_type": "code",
   "execution_count": 5,
   "metadata": {},
   "outputs": [],
   "source": [
    "integer = 16384\n",
    "integer%10\n",
    "integer = integer//10"
   ]
  },
  {
   "cell_type": "code",
   "execution_count": 6,
   "metadata": {},
   "outputs": [
    {
     "data": {
      "text/plain": [
       "1638"
      ]
     },
     "execution_count": 6,
     "metadata": {},
     "output_type": "execute_result"
    }
   ],
   "source": [
    "integer"
   ]
  },
  {
   "cell_type": "markdown",
   "metadata": {},
   "source": [
    "### (4) Write a program that asks a number via input() function and to check whether the given number is even or odd. Print out an appropriate message to the user."
   ]
  },
  {
   "cell_type": "code",
   "execution_count": 7,
   "metadata": {},
   "outputs": [
    {
     "name": "stdout",
     "output_type": "stream",
     "text": [
      "Enter a number: 3\n",
      "The given number is odd\n"
     ]
    }
   ],
   "source": [
    "# your code here\n",
    "\n",
    "number = int(input(\"Enter a number: \"))\n",
    "\n",
    "if number%2 == 0:\n",
    "    message = 'even'\n",
    "else:\n",
    "    message = 'odd'\n",
    "\n",
    "print(\"The given number is\", message)"
   ]
  },
  {
   "cell_type": "markdown",
   "metadata": {},
   "source": [
    "### (5) Write a program that translates a letter grade into a number grade. Letter grades are A, B, C, D, and F, possibly followed by + or -. Their numeric values are 4, 3, 2, 1, and 0. There is no F+ or F-. A+ increases the numeric value by 0.3, A- decreases it by 0.3."
   ]
  },
  {
   "cell_type": "code",
   "execution_count": 8,
   "metadata": {},
   "outputs": [
    {
     "name": "stdout",
     "output_type": "stream",
     "text": [
      "Input the letter grade : A+\n",
      "The numeric value : 4.3\n"
     ]
    }
   ],
   "source": [
    "# your code here\n",
    "\n",
    "letter_grade = str(input(\"Input the letter grade : \"))\n",
    "\n",
    "if letter_grade[0]==\"A\":\n",
    "    numeric_grade = 4.0\n",
    "    if len(letter_grade)==2 and letter_grade[1]==\"+\":\n",
    "        numeric_grade = numeric_grade + 0.3\n",
    "    elif len(letter_grade)==2 and letter_grade[1]==\"-\":\n",
    "        numeric_grade = numeric_grade - 0.3\n",
    "elif letter_grade[0]==\"B\":\n",
    "    numeric_grade = 3.0\n",
    "    if len(letter_grade)==2 and letter_grade[1]==\"+\":\n",
    "        numeric_grade = numeric_grade + 0.3\n",
    "    elif len(letter_grade)==2 and letter_grade[1]==\"-\":\n",
    "        numeric_grade = numeric_grade - 0.3\n",
    "elif letter_grade[0]==\"C\":\n",
    "    numeric_grade = 2.0\n",
    "    if len(letter_grade)==2 and letter_grade[1]==\"+\":\n",
    "        numeric_grade = numeric_grade + 0.3\n",
    "    elif len(letter_grade)==2 and letter_grade[1]==\"-\":\n",
    "        numeric_grade = numeric_grade - 0.3\n",
    "elif letter_grade[0]==\"D\":\n",
    "    numeric_grade = 1.0\n",
    "    if len(letter_grade)==2 and letter_grade[1]==\"+\":\n",
    "        numeric_grade = numeric_grade + 0.3\n",
    "    elif len(letter_grade)==2 and letter_grade[1]==\"-\":\n",
    "        numeric_grade = numeric_grade - 0.3\n",
    "elif letter_grade[0]==\"F\":\n",
    "    numeric_grade = 0.0\n",
    "    if len(letter_grade)==2 and letter_grade[1]==\"+\":\n",
    "        numeric_grade = \"There is no \" + str(letter_grade)\n",
    "    elif len(letter_grade)==2 and letter_grade[1]==\"-\":\n",
    "        numeric_grade = \"There is no \" + str(letter_grade)\n",
    "else:\n",
    "    numeric_grade = \"You entered a wrong input.\"\n",
    "    \n",
    "print(\"The numeric value : \" + str(numeric_grade))"
   ]
  },
  {
   "cell_type": "markdown",
   "metadata": {},
   "source": [
    "### (6) Write a program that reads in three floating-point numbers and prints the largest of the three inputs without using the **max** function. For example:\n",
    "\n",
    "Enter a number : 4.0<br/>\n",
    "Enter a number : 9.0<br/>\n",
    "Enter a number : 2.5<br/>\n",
    "The largest number is 9.0"
   ]
  },
  {
   "cell_type": "code",
   "execution_count": 10,
   "metadata": {},
   "outputs": [
    {
     "name": "stdout",
     "output_type": "stream",
     "text": [
      "Enter a number : 3\n",
      "Enter a number : 2\n",
      "Enter a number : 767\n",
      "The largest number is 767.0\n"
     ]
    }
   ],
   "source": [
    "# your code here\n",
    "\n",
    "number1 = float(input(\"Enter a number : \"))\n",
    "largest = number1\n",
    "number2 = float(input(\"Enter a number : \"))\n",
    "if largest<number2:\n",
    "    largest = number2\n",
    "number3 = float(input(\"Enter a number : \"))\n",
    "if largest<number3:\n",
    "    largest = number3\n",
    "print(\"The largest number is \" + str(largest))"
   ]
  },
  {
   "cell_type": "code",
   "execution_count": 11,
   "metadata": {},
   "outputs": [
    {
     "name": "stdout",
     "output_type": "stream",
     "text": [
      "Enter a number : 2\n",
      "Enter a number : 2\n",
      "Enter a number : 2\n",
      "The largest number is 2.0\n"
     ]
    }
   ],
   "source": [
    "for i in range(3):\n",
    "    number = float(input(\"Enter a number : \"))\n",
    "    if(i==0):\n",
    "        largest = number\n",
    "    elif(number>largest):\n",
    "        largest = number\n",
    "\n",
    "print(\"The largest number is \" + str(largest))"
   ]
  },
  {
   "cell_type": "markdown",
   "metadata": {},
   "source": [
    "### (7) Write a Python program to construct the following pattern, using a nested loop number.<br/>\n",
    "*Expected Output:<br/>*\n",
    "1<br/>\n",
    "22<br/>\n",
    "333<br/>\n",
    "4444<br/>\n",
    "55555<br/>\n",
    "666666<br/>\n",
    "7777777<br/>\n",
    "88888888<br/>\n",
    "999999999<br/>"
   ]
  },
  {
   "cell_type": "code",
   "execution_count": null,
   "metadata": {},
   "outputs": [],
   "source": [
    "# your code here\n",
    "\n",
    "for i in range(1, 10):\n",
    "    print(str(i) * i)"
   ]
  },
  {
   "cell_type": "code",
   "execution_count": null,
   "metadata": {},
   "outputs": [],
   "source": [
    "for i in range(1, 10):\n",
    "    for j in range(i):\n",
    "        print(i, end='')\n",
    "    print()"
   ]
  },
  {
   "cell_type": "markdown",
   "metadata": {},
   "source": [
    "### (8) Write a Python program to create the multiplication table (from 1 to 9) of a number.\n",
    "*Expected Output:<br/>*\n",
    "\n",
    "Input a number: 7                                             \n",
    "7 x 1 = 7                                                               \n",
    "7 x 2 = 14                                                              \n",
    "7 x 3 = 21                                                              \n",
    "7 x 4 = 28                                                              \n",
    "7 x 5 = 35                                                              \n",
    "7 x 6 = 42                                                              \n",
    "7 x 7 = 49                                                              \n",
    "7 x 8 = 56                                                              \n",
    "7 x 9 = 63                                                              "
   ]
  },
  {
   "cell_type": "code",
   "execution_count": null,
   "metadata": {},
   "outputs": [],
   "source": [
    "# your code here\n",
    "\n",
    "number = int(input(\"Input a number: \"))\n",
    "\n",
    "# use for loop to iterate 9 times\n",
    "for i in range(1,10):\n",
    "    print(number,'x',i,'=',number*i)"
   ]
  },
  {
   "cell_type": "markdown",
   "metadata": {},
   "source": [
    "### (9) Write a Python program that accepts a string and calculate the number of digits.\n",
    "Sample Data : Python 3.7<br/>\n",
    "Expected Output :<br/>\n",
    "Digits 2"
   ]
  },
  {
   "cell_type": "code",
   "execution_count": null,
   "metadata": {},
   "outputs": [],
   "source": [
    "# your code here\n",
    "\n",
    "string = input(\"Input a string : \")\n",
    "digits=0\n",
    "for char in string:\n",
    "    if char.isdigit():\n",
    "        digits = digits+1\n",
    "        \n",
    "print(\"Digits\", digits)"
   ]
  },
  {
   "cell_type": "markdown",
   "metadata": {},
   "source": [
    "### (10) Write a program that reads a word and prints the number of vowels in the word. For this problem, assume that 'a', 'e', 'i', 'o', 'u', 'y' are vowels. For example, if you enter a word \"KAIST IMMBA\", the program prints \"4\"."
   ]
  },
  {
   "cell_type": "code",
   "execution_count": null,
   "metadata": {},
   "outputs": [],
   "source": [
    "#your code here\n",
    "\n",
    "word = str(input('Input a word: '))\n",
    "\n",
    "vowels_count = 0\n",
    "for char in word:\n",
    "    if char == 'a' or char == 'A':\n",
    "        vowels_count += 1\n",
    "    elif char == 'e' or char == 'E':\n",
    "        vowels_count += 1\n",
    "    elif char == 'i' or char == 'I':\n",
    "        vowels_count += 1  \n",
    "    elif char == 'o' or char == 'O':\n",
    "        vowels_count += 1\n",
    "    elif char == 'u' or char == 'U':\n",
    "        vowels_count += 1\n",
    "    elif char == 'y' or char == 'Y':\n",
    "        vowels_count += 1\n",
    "    \n",
    "print(vowels_count)"
   ]
  },
  {
   "cell_type": "code",
   "execution_count": null,
   "metadata": {},
   "outputs": [],
   "source": [
    "char = 'a'\n",
    "\n",
    "vowels = ['a', 'e', 'i', 'o', 'u', 'y']\n",
    "char.lower() in vowels"
   ]
  },
  {
   "cell_type": "code",
   "execution_count": null,
   "metadata": {},
   "outputs": [],
   "source": [
    "word = input('Enter a word: ')\n",
    "vowels = ['a', 'e', 'i', 'o', 'u', 'y']\n",
    "\n",
    "vowels_count = 0\n",
    "for char in word:\n",
    "    if char.lower() in vowels:\n",
    "        vowels_count += 1\n",
    "\n",
    "print(vowels_count)"
   ]
  },
  {
   "cell_type": "markdown",
   "metadata": {},
   "source": [
    "### (11) Write a program to fill the list with 6 random numbers from 1 to 45 that do not overlap."
   ]
  },
  {
   "cell_type": "code",
   "execution_count": 12,
   "metadata": {},
   "outputs": [
    {
     "data": {
      "text/plain": [
       "8"
      ]
     },
     "execution_count": 12,
     "metadata": {},
     "output_type": "execute_result"
    }
   ],
   "source": [
    "from random import randint\n",
    "\n",
    "randint(1, 45)"
   ]
  },
  {
   "cell_type": "code",
   "execution_count": 13,
   "metadata": {},
   "outputs": [
    {
     "data": {
      "text/plain": [
       "[1,\n",
       " 2,\n",
       " 3,\n",
       " 4,\n",
       " 5,\n",
       " 6,\n",
       " 7,\n",
       " 8,\n",
       " 9,\n",
       " 10,\n",
       " 11,\n",
       " 12,\n",
       " 13,\n",
       " 14,\n",
       " 15,\n",
       " 16,\n",
       " 17,\n",
       " 18,\n",
       " 19,\n",
       " 20,\n",
       " 21,\n",
       " 22,\n",
       " 23,\n",
       " 24,\n",
       " 25,\n",
       " 26,\n",
       " 27,\n",
       " 28,\n",
       " 29,\n",
       " 30,\n",
       " 31,\n",
       " 32,\n",
       " 33,\n",
       " 34,\n",
       " 35,\n",
       " 36,\n",
       " 37,\n",
       " 38,\n",
       " 39,\n",
       " 40,\n",
       " 41,\n",
       " 42,\n",
       " 43,\n",
       " 44,\n",
       " 45]"
      ]
     },
     "execution_count": 13,
     "metadata": {},
     "output_type": "execute_result"
    }
   ],
   "source": [
    "#your code here\n",
    "\n",
    "from random import randint\n",
    "\n",
    "candidates = []\n",
    "for i in range(1,46):\n",
    "    candidates.append(i)\n",
    "\n",
    "candidates"
   ]
  },
  {
   "cell_type": "code",
   "execution_count": 14,
   "metadata": {},
   "outputs": [
    {
     "name": "stdout",
     "output_type": "stream",
     "text": [
      "[45, 19, 15, 39, 42, 30]\n"
     ]
    }
   ],
   "source": [
    "picked = []\n",
    "for i in range(6):\n",
    "    index = randint(0, len(candidates))\n",
    "    pick_number = candidates[index]\n",
    "    picked.append(pick_number)\n",
    "    candidates.pop(index)\n",
    "\n",
    "print(picked)"
   ]
  },
  {
   "cell_type": "code",
   "execution_count": 15,
   "metadata": {},
   "outputs": [
    {
     "name": "stdout",
     "output_type": "stream",
     "text": [
      "[15, 33, 13, 4, 3, 2]\n",
      "[38, 21, 35, 2, 12, 42]\n",
      "[43, 26, 29, 5, 13, 39]\n"
     ]
    }
   ],
   "source": [
    "trial = 1\n",
    "numbers = []\n",
    "while trial<=6:\n",
    "    \n",
    "    random_number = randint(1,45)\n",
    "    \n",
    "    if random_number not in numbers:\n",
    "        trial+=1\n",
    "        numbers.append(random_number)\n",
    "    \n",
    "print(numbers)\n",
    "\n",
    "trial = 1\n",
    "numbers = []\n",
    "while trial<=6:\n",
    "    \n",
    "    random_number = randint(1,45)\n",
    "    \n",
    "    if random_number not in numbers:\n",
    "        trial+=1\n",
    "        numbers.append(random_number)\n",
    "    \n",
    "print(numbers)\n",
    "\n",
    "trial = 1\n",
    "numbers = []\n",
    "while trial<=6:\n",
    "    \n",
    "    random_number = randint(1,45)\n",
    "    \n",
    "    if random_number not in numbers:\n",
    "        trial+=1\n",
    "        numbers.append(random_number)\n",
    "    \n",
    "print(numbers)"
   ]
  },
  {
   "cell_type": "code",
   "execution_count": 16,
   "metadata": {},
   "outputs": [],
   "source": [
    "def lotto_auto():\n",
    "    trial = 1\n",
    "    numbers = []\n",
    "    while trial<=6: \n",
    "        random_number = randint(1,45)\n",
    "    \n",
    "        if random_number not in numbers:\n",
    "            trial+=1\n",
    "            numbers.append(random_number)\n",
    "    \n",
    "    return numbers"
   ]
  },
  {
   "cell_type": "code",
   "execution_count": 17,
   "metadata": {},
   "outputs": [
    {
     "name": "stdout",
     "output_type": "stream",
     "text": [
      "[10, 7, 24, 41, 35, 33]\n",
      "[1, 24, 43, 5, 23, 25]\n",
      "[20, 5, 10, 45, 22, 31]\n",
      "[21, 4, 23, 45, 25, 24]\n",
      "[7, 23, 29, 8, 42, 2]\n",
      "[22, 18, 23, 4, 24, 34]\n",
      "[29, 41, 26, 6, 20, 9]\n",
      "[38, 35, 5, 45, 43, 21]\n",
      "[4, 24, 40, 9, 1, 17]\n",
      "[22, 12, 14, 6, 33, 13]\n"
     ]
    }
   ],
   "source": [
    "for i in range(10):\n",
    "    series = lotto_auto()\n",
    "    print(series)"
   ]
  },
  {
   "cell_type": "markdown",
   "metadata": {},
   "source": [
    "### (12) Write a program to guess a number between 1 to 9 (print the number of trials, too).\n",
    "Hint:<br/> \n",
    "(1) Assign a target number to guess using **randint** function.<br/> \n",
    "(2) Use a loop statement to get a number until you can guess the target number."
   ]
  },
  {
   "cell_type": "code",
   "execution_count": 18,
   "metadata": {},
   "outputs": [
    {
     "name": "stdout",
     "output_type": "stream",
     "text": [
      "Guess a number between 1 and 9 until you get it right : 3\n",
      "Guess a number between 1 and 9 until you get it right : 4\n",
      "Guess a number between 1 and 9 until you get it right : 2\n",
      "Guess a number between 1 and 9 until you get it right : 2\n",
      "Guess a number between 1 and 9 until you get it right : 1\n",
      "Well guessed! Your number of trials: 5\n"
     ]
    }
   ],
   "source": [
    "#your code here\n",
    "\n",
    "from random import randint\n",
    "\n",
    "target_num = randint(1, 9)\n",
    "guess_num = 0\n",
    "trials=0\n",
    "while target_num != guess_num:\n",
    "    guess_num = int(input('Guess a number between 1 and 9 until you get it right : '))\n",
    "    trials+=1\n",
    "print('Well guessed! ' + 'Your number of trials: ' + str(trials))"
   ]
  },
  {
   "cell_type": "markdown",
   "metadata": {},
   "source": [
    "### (13) When you use an automated teller machine (ATM) with your bank card, you need to use a personal identification number (PIN) to access your account. If a user fails more than three times when entering the PIN, the machine will block the card.\n",
    "### Assume that the user's PIN is \"1234\" and write a program that askes the user for the PIN no more than three times, and does the following:\n",
    "   * If the user enters the right number, print a message saying \"Your PIN is correct\", and end the program.\n",
    "   * If the user enters a wrong number, print a message saying, \"Your PIN is incorrect\" and, if you have asked for the PIN less than three times, ask for it again.\n",
    "   * If the user enters a wrong number three times, print a message saying \"Your bank card is blocked\" and end the program."
   ]
  },
  {
   "cell_type": "code",
   "execution_count": 19,
   "metadata": {},
   "outputs": [
    {
     "name": "stdout",
     "output_type": "stream",
     "text": [
      "Enter your password: 1234\n",
      "Your PIN is correct\n"
     ]
    }
   ],
   "source": [
    "#your code here\n",
    "\n",
    "PIN = \"1234\"\n",
    "\n",
    "user_input = input(\"Enter your password: \")\n",
    "\n",
    "if user_input == PIN:\n",
    "    print(\"Your PIN is correct\")\n",
    "else:\n",
    "    print(\"Your PIN is incorrect\")\n",
    "    user_input = input(\"Enter your password: \")\n",
    "    if user_input == PIN:\n",
    "        print(\"Your PIN is correct\")\n",
    "    else:\n",
    "        print(\"Your PIN is incorrect\")\n",
    "        user_input = input(\"Enter your password: \")\n",
    "        if user_input == PIN:\n",
    "            print(\"Your PIN is correct\")\n",
    "        else:\n",
    "            print(\"Your PIN is incorrect\")\n",
    "            print(\"Your bank card is blocked\")"
   ]
  },
  {
   "cell_type": "markdown",
   "metadata": {},
   "source": [
    "### (14) Let's assume that there is a game where you throw 3 dice with 1 to 6 eyes and win prizes according to the following rules.\n",
    "\n",
    "* rule 1: If three same eyes come out, you will receive a prize of 10,000 + (the same eyes) X 1,000 dollars.\n",
    "* rule 2: If only two eyes are same, you will receive a prize of 1,000 + (the same eyes) X 100 dollars.\n",
    "* rule 3: If all eyes are different, you will receive a prize of 100 X (the largest of them) dollars.\n",
    "\n",
    "For example, when you get {5, 5, 5}, then you will get 10,000 + 5 X 1,000 = 15,000 dollars.    \n",
    "Or, when you get {3, 3, 2}, then you will get 1,000 + 3 X 100 = 1,300 dollars.  \n",
    "Or, when you get {1, 2, 3}, then you will get 100 X 3 = 300 dollars.\n",
    "\n",
    "### Write a program that prints out the prizes of the people with the most prizes when 5 players participate in the game."
   ]
  },
  {
   "cell_type": "code",
   "execution_count": 24,
   "metadata": {},
   "outputs": [
    {
     "name": "stdout",
     "output_type": "stream",
     "text": [
      "!!!!!!\n",
      "[4, 4, 4]\n",
      "The prize of player1 : 1400\n",
      "The prize of player2 : 500\n",
      "The prize of player3 : 400\n",
      "The prize of player4 : 14000\n",
      "The prize of player5 : 300\n",
      "The maximum prize is :  14000\n"
     ]
    }
   ],
   "source": [
    "#your code here\n",
    "\n",
    "from random import randint\n",
    "\n",
    "def dice_throw():\n",
    "    eyes = []\n",
    "    for i in range(3):\n",
    "        eyes.append(randint(1,6))\n",
    "    \n",
    "    return eyes\n",
    "\n",
    "def prize_rule(List):\n",
    "    \n",
    "    prize=0\n",
    "    List.sort()\n",
    "    \n",
    "    if(List[0]==List[2]):\n",
    "        print(\"!!!!!!\")\n",
    "        print(List)\n",
    "        prize = 10000 + List[0]*1000\n",
    "    elif(List[0]<List[1] and List[1]<List[2]):\n",
    "        prize = 100 * List[2]\n",
    "    else:\n",
    "        if(List[0]==List[1]):\n",
    "            prize = 1000 + List[0]*100\n",
    "        else:\n",
    "            prize = 1000 + List[1]*100\n",
    "    \n",
    "    return prize\n",
    "\n",
    "prizes = []\n",
    "for i in range(5):\n",
    "    player_try = dice_throw()\n",
    "    player_prize = prize_rule(player_try)\n",
    "    prizes.append(player_prize)\n",
    "    \n",
    "for i in range(5):\n",
    "    print(\"The prize of player\" + str(i+1) + \" :\", prizes[i])\n",
    "\n",
    "print(\"The maximum prize is : \", max(prizes))"
   ]
  },
  {
   "cell_type": "markdown",
   "metadata": {},
   "source": [
    "### (15) Write a program that computes information related to a sequence of grades obtained from the input.\n",
    "   * Get a sequence of grades of 5 students from the input function (between 0 and 100)\n",
    "   * Determine whether the grade passing or failing (pass condition: 70.0)\n",
    "   * Find the max and min grades\n",
    "   * Find the average grade.\n",
    "    \n",
    "   * At the end of the program, you should print the results,\n",
    "       * (1) The average grade is:\n",
    "       * (2) Number of passing grades is\n",
    "       * (3) Number of failing grades is\n",
    "       * (4) The maximum grade is\n",
    "       * (5) The minimum grade is"
   ]
  },
  {
   "cell_type": "code",
   "execution_count": 25,
   "metadata": {},
   "outputs": [
    {
     "name": "stdout",
     "output_type": "stream",
     "text": [
      "Enter a grade : 3\n",
      "Enter a grade : 2\n",
      "Enter a grade : 2\n",
      "Enter a grade : 2\n",
      "Enter a grade : 2\n",
      "**************************************************\n",
      "The average grade is 2.20\n",
      "Number of passing grade is 0\n",
      "Number of failing grade is 5\n",
      "The maximum grade is 3.00\n",
      "The minimum grade is 2.00\n"
     ]
    }
   ],
   "source": [
    "#your code here\n",
    "\n",
    "# Initialize the counter variables\n",
    "numPassing = 0\n",
    "numFailing = 0\n",
    "\n",
    "# Initialize the variables used to compute the average\n",
    "total = 0\n",
    "count = 0\n",
    "\n",
    "# Initialize the min and max variables\n",
    "minGrade = 100.0\n",
    "maxGrade = 0.0\n",
    "\n",
    "# Use a while loop with a priming read to obtain the grades\n",
    "while count < 5:\n",
    "    grade = float(input(\"Enter a grade : \"))\n",
    "    count +=1\n",
    "    # Increment the passing or failing counter\n",
    "    if grade >= 70.0:\n",
    "        numPassing = numPassing + 1\n",
    "    else:\n",
    "        numFailing = numFailing + 1\n",
    "    \n",
    "    # Determine if the grade is the min or max grade.\n",
    "    if grade < minGrade:\n",
    "        minGrade = grade\n",
    "    if grade > maxGrade:\n",
    "        maxGrade = grade\n",
    "    \n",
    "    # Add the grade to the running total\n",
    "    total = total + grade\n",
    "        \n",
    "# Print the results\n",
    "print(\"*\"*50)\n",
    "if count > 0:\n",
    "    average = total / count\n",
    "    print(\"The average grade is %.2f\" %average)\n",
    "    print(\"Number of passing grade is\", numPassing)\n",
    "    print(\"Number of failing grade is\", numFailing)\n",
    "    print(\"The maximum grade is %.2f\" %maxGrade)\n",
    "    print(\"The minimum grade is %.2f\" %minGrade)"
   ]
  },
  {
   "cell_type": "markdown",
   "metadata": {},
   "source": [
    "### (16) The *Fibonacci numbers* are defined by the sequence\n",
    "\n",
    "$f_1 = 1$<br/>\n",
    "$f_2 = 1$<br/>\n",
    "$f_n = f_{n-1} + f_{n-2}$\n",
    "\n",
    "Reformulate that as \n",
    "\n",
    "fold1 = 1<br/>\n",
    "fold2 = 1<br/>\n",
    "fnew = fold1 + fold2\n",
    "\n",
    "### After that, discard fold2, which is no longer needed, and set fold2 to fold1 and fold1 to fnew. Implement a program that prompts that asks the user for an integer n and prints the nth Fibonacci number, using the above algorithm."
   ]
  },
  {
   "cell_type": "code",
   "execution_count": 26,
   "metadata": {},
   "outputs": [
    {
     "name": "stdout",
     "output_type": "stream",
     "text": [
      "Please enter the integer n: 3\n",
      "The Fibonacci number is 2.\n"
     ]
    }
   ],
   "source": [
    "#your code here\n",
    "\n",
    "nth = int(input(\"Please enter the integer n: \"))\n",
    "\n",
    "if nth<=0:\n",
    "    print(\"You entered wrong number.\")\n",
    "elif nth==1 or nth==2:\n",
    "    print(\"The Fibonacci number is 1.\")\n",
    "else:\n",
    "    fold1=1\n",
    "    fold2=1\n",
    "    for i in range(3, nth+1):\n",
    "        fnew = fold1 + fold2\n",
    "        fold2 = fold1\n",
    "        fold1 = fnew\n",
    "\n",
    "    print(\"The Fibonacci number is \" + str(fnew) + \".\")"
   ]
  },
  {
   "cell_type": "markdown",
   "metadata": {},
   "source": [
    "### (17) Write a program that decodes the given Morse code (dot: . dash: -) received in string format as an English sentence. (A single space is separated between letters and slashes are separated between words.)\n",
    "\n",
    "| Char| Code | Char| Code |\n",
    "|:---:|:----:|:---:|:----:|\n",
    "|  A  | .-   |  N  | -.   |\n",
    "|  B  | -... |  O  | ---  |\n",
    "|  C  | -.-. |  P  | .--. |\n",
    "|  D  | -..  |  Q  | --.- |\n",
    "|  E  | .    |  R  | .-.  |\n",
    "|  F  | ..-. |  S  | ...  |\n",
    "|  G  | --.  |  T  | -    |\n",
    "|  H  | .... |  U  | ..-  |\n",
    "|  I  | ..   |  V  | ...- |\n",
    "|  J  | .--- |  W  | .--  |\n",
    "|  K  | -.-  |  X  | -..- |\n",
    "|  L  | .-.. |  Y  | -.-- |\n",
    "|  M  | --   |  Z  | --.. |"
   ]
  },
  {
   "cell_type": "code",
   "execution_count": 27,
   "metadata": {},
   "outputs": [
    {
     "name": "stdout",
     "output_type": "stream",
     "text": [
      "WELCOME KAIST IMMBA \n"
     ]
    }
   ],
   "source": [
    "Morse = '.-- . .-.. -.-. --- -- . / -.- .- .. ... - / .. -- -- -... .-'\n",
    "\n",
    "# your code here\n",
    "\n",
    "morse_dict = {\n",
    "    '.-':'A','-...':'B','-.-.':'C','-..':'D','.':'E','..-.':'F',\n",
    "    '--.':'G','....':'H','..':'I','.---':'J','-.-':'K','.-..':'L',\n",
    "    '--':'M','-.':'N','---':'O','.--.':'P','--.-':'Q','.-.':'R',\n",
    "    '...':'S','-':'T','..-':'U','...-':'V','.--':'W','-..-':'X',\n",
    "    '-.--':'Y','--..':'Z'\n",
    "}\n",
    "\n",
    "result_char = \"\"\n",
    "for word in Morse.split(\" / \"):\n",
    "    for char in word.split(\" \"):\n",
    "        result_char += morse_dict[char]\n",
    "    result_char += \" \"\n",
    "    \n",
    "print(result_char)"
   ]
  },
  {
   "cell_type": "code",
   "execution_count": 28,
   "metadata": {},
   "outputs": [
    {
     "data": {
      "text/plain": [
       "'A'"
      ]
     },
     "execution_count": 28,
     "metadata": {},
     "output_type": "execute_result"
    }
   ],
   "source": [
    "morse_dict = {\n",
    "    '.-':'A','-...':'B','-.-.':'C','-..':'D','.':'E','..-.':'F',\n",
    "    '--.':'G','....':'H','..':'I','.---':'J','-.-':'K','.-..':'L',\n",
    "    '--':'M','-.':'N','---':'O','.--.':'P','--.-':'Q','.-.':'R',\n",
    "    '...':'S','-':'T','..-':'U','...-':'V','.--':'W','-..-':'X',\n",
    "    '-.--':'Y','--..':'Z'\n",
    "}\n",
    "\n",
    "morse_dict['.-']"
   ]
  },
  {
   "cell_type": "markdown",
   "metadata": {},
   "source": [
    "### (18) Write a password generator in Python. Strong passwords have a mix of lowercase letters, uppercase letters, numbers, and symbols. The passwords should be random, generating a new password every time the user asks for a new password. "
   ]
  },
  {
   "cell_type": "code",
   "execution_count": 29,
   "metadata": {},
   "outputs": [
    {
     "name": "stdout",
     "output_type": "stream",
     "text": [
      "UyDiYZ#(ZW\n"
     ]
    }
   ],
   "source": [
    "# your code here\n",
    "\n",
    "from random import randint\n",
    "\n",
    "def pass_gen(char, n):\n",
    "\n",
    "    password = \"\"\n",
    "    for i in range(n):\n",
    "        password+=char[randint(0,len(char)-1)]\n",
    "    \n",
    "    return password\n",
    "\n",
    "char = \"abcdefghijklmnopqrstuvwxyzABCDEFGHIJKLMNOPQRSTUVWXYZ0123456789!@#$%^&*()-_=+\"\n",
    "word_len = 10\n",
    "\n",
    "password = pass_gen(char, word_len)\n",
    "\n",
    "print(password)"
   ]
  },
  {
   "cell_type": "markdown",
   "metadata": {},
   "source": [
    "### (19) When the price of coffee is as follows, \n",
    "\n",
    "| Coffee | Price |\n",
    "|:---:|:----:|\n",
    "|  Americano  | 2500 |  \n",
    "|  Cafe Latte  | 3000 |  \n",
    "|  Cappuccino  | 3000 |  \n",
    "|  Cafe Mocha  | 3500 |  \n",
    "|  Caramel Macchiato  | 4000 |  \n",
    "|  Hot Chocolate  | 2800 |  \n",
    "\n",
    "### construct it as a dictionary and print the price for the coffee after receiving an order from the user."
   ]
  },
  {
   "cell_type": "code",
   "execution_count": 30,
   "metadata": {},
   "outputs": [
    {
     "name": "stdout",
     "output_type": "stream",
     "text": [
      "Please enter your order of coffee: Americano\n",
      "The price of coffee you ordered is 2500.\n"
     ]
    }
   ],
   "source": [
    "# your code here\n",
    "\n",
    "coffee_prices = {'americano': 2500, 'cafe latte': 3000, 'cappuccino': 3000, 'cafe mocha': 3500, 'caramel macchiato':4000, 'hot chocolate':2800}\n",
    "\n",
    "order = input(\"Please enter your order of coffee: \").lower()\n",
    "\n",
    "print(\"The price of coffee you ordered is \" + str(coffee_prices[order]) + \".\")"
   ]
  },
  {
   "cell_type": "markdown",
   "metadata": {},
   "source": [
    "### (20) Write a program that receives a dollar, yen, euro, or yuan amount from the user and converts it to won. The exchange rate for each currency is as follows. \n",
    "\n",
    "| Currency | rate |\n",
    "|:---:|:----:|\n",
    "|  dollar  | 1194.62 |  \n",
    "|  yen  | 10.3484 |  \n",
    "|  euro  | 1366.25 |  \n",
    "|  yuan  | 187.76 |  \n",
    "\n",
    "### Assume that the user enters a space between the amount and the currency name, such as 100 dollars, 100 yen, 100 euros, or 100 yuan."
   ]
  },
  {
   "cell_type": "code",
   "execution_count": null,
   "metadata": {},
   "outputs": [],
   "source": [
    "# your code here\n",
    "\n",
    "currency = {'dollar': 1194.62, 'yen': 10.3484, 'euro': 1366.25, 'yuan': 187.76}\n",
    "\n",
    "user_input = input(\"Please enter your order: \")\n",
    "\n",
    "user_input = user_input.split(\" \")\n",
    "converted_won = currency[user_input[1]]*int(user_input[0])\n",
    "\n",
    "print(str(converted_won) + \" won.\")"
   ]
  },
  {
   "cell_type": "code",
   "execution_count": null,
   "metadata": {},
   "outputs": [],
   "source": []
  }
 ],
 "metadata": {
  "kernelspec": {
   "display_name": "Python 3",
   "language": "python",
   "name": "python3"
  },
  "language_info": {
   "codemirror_mode": {
    "name": "ipython",
    "version": 3
   },
   "file_extension": ".py",
   "mimetype": "text/x-python",
   "name": "python",
   "nbconvert_exporter": "python",
   "pygments_lexer": "ipython3",
   "version": "3.7.6"
  }
 },
 "nbformat": 4,
 "nbformat_minor": 2
}
