{
 "cells": [
  {
   "cell_type": "markdown",
   "metadata": {},
   "source": [
    "# Lecture 3 : Loops"
   ]
  },
  {
   "cell_type": "markdown",
   "metadata": {},
   "source": [
    "* In a loop, a part of a program is repeated over and over, until a specific goal is reached. Loops are important for calculations that require repeated steps and for processing input consisting of many data items. \n",
    "* In this lecture, you will learn about loop statements in Python, as well as techniques for writing programs that process input and simulate activities in the real world.\n",
    "\n",
    "## 1. The while loop\n",
    "* In Python, the **while** statement implements such a repetition. It has the form"
   ]
  },
  {
   "cell_type": "code",
   "execution_count": 1,
   "metadata": {},
   "outputs": [],
   "source": [
    "# while condition:\n",
    "#     statements"
   ]
  },
  {
   "cell_type": "markdown",
   "metadata": {},
   "source": [
    "* As long as the condition remains true, the statements inside the **while** loop are executed. This statement block is called the **body** of the **while** loop.\n",
    "* Here is a simple problem that counts down from five and then says \"Blastoff!\""
   ]
  },
  {
   "cell_type": "code",
   "execution_count": 2,
   "metadata": {},
   "outputs": [
    {
     "name": "stdout",
     "output_type": "stream",
     "text": [
      "5\n",
      "4\n",
      "3\n",
      "2\n",
      "1\n",
      "Blastoff!\n"
     ]
    }
   ],
   "source": [
    "n = 5\n",
    "while n > 0:\n",
    "    print(n)\n",
    "    n = n - 1\n",
    "\n",
    "print('Blastoff!')"
   ]
  },
  {
   "cell_type": "markdown",
   "metadata": {},
   "source": [
    "* Compound interest algorithm: You put \\$10,000 into a bank account that earns 5 percent interest per year. How many years does it take for the account balance to be double the original investment?"
   ]
  },
  {
   "cell_type": "code",
   "execution_count": 3,
   "metadata": {},
   "outputs": [
    {
     "name": "stdout",
     "output_type": "stream",
     "text": [
      "The investment doubled after 23 years.\n"
     ]
    }
   ],
   "source": [
    "# Create constant variables.\n",
    "RATE = 5.0\n",
    "INITIAL_BALANCE = 10000.0\n",
    "TARGET = 3 * INITIAL_BALANCE\n",
    "\n",
    "# Initialize variables used with the loop.\n",
    "balance = INITIAL_BALANCE\n",
    "year = 0\n",
    "\n",
    "# Count the years required for the investment to double.\n",
    "while balance < TARGET:\n",
    "    year = year + 1\n",
    "    interest = balance * RATE / 100\n",
    "    balance = balance + interest\n",
    "    \n",
    "# Print the results\n",
    "print(\"The investment doubled after\", year, \"years.\")"
   ]
  },
  {
   "cell_type": "markdown",
   "metadata": {},
   "source": [
    "### Mini exercise\n",
    "   * Write a loop that computes: The sum of all numbers between 1 and 100."
   ]
  },
  {
   "cell_type": "code",
   "execution_count": 33,
   "metadata": {},
   "outputs": [
    {
     "name": "stdout",
     "output_type": "stream",
     "text": [
      "4950\n"
     ]
    }
   ],
   "source": [
    "# your code here\n",
    "\n",
    "i = 0\n",
    "summ = 0\n",
    "while i <100 :\n",
    "    summ = summ+ i\n",
    "    i=i+1\n",
    "\n",
    "\n",
    "print(summ)\n",
    "    \n",
    "    "
   ]
  },
  {
   "cell_type": "code",
   "execution_count": null,
   "metadata": {},
   "outputs": [],
   "source": []
  },
  {
   "cell_type": "markdown",
   "metadata": {},
   "source": [
    "### Common error: Infinite loops"
   ]
  },
  {
   "cell_type": "markdown",
   "metadata": {},
   "source": [
    "* What is the wrong with this loop?"
   ]
  },
  {
   "cell_type": "code",
   "execution_count": 5,
   "metadata": {},
   "outputs": [],
   "source": [
    "# 무한루프이다\n",
    "# n = 5\n",
    "# while n > 0:\n",
    "#     print('Lather')\n",
    "#     print('Rinse')\n",
    "    \n",
    "# print('Dry off!')"
   ]
  },
  {
   "cell_type": "markdown",
   "metadata": {},
   "source": [
    "### The break statement"
   ]
  },
  {
   "cell_type": "markdown",
   "metadata": {},
   "source": [
    "* The **break** statement ends the current loop and jumps to the statement immediately following the loop."
   ]
  },
  {
   "cell_type": "code",
   "execution_count": 6,
   "metadata": {},
   "outputs": [
    {
     "name": "stdout",
     "output_type": "stream",
     "text": [
      "1\n",
      "2\n",
      "3\n"
     ]
    }
   ],
   "source": [
    "i = 1\n",
    "while i < 6:\n",
    "    print(i)\n",
    "    if (i == 3):\n",
    "        break\n",
    "        \n",
    "    i += 1"
   ]
  },
  {
   "cell_type": "markdown",
   "metadata": {},
   "source": [
    "### The continue statement"
   ]
  },
  {
   "cell_type": "markdown",
   "metadata": {},
   "source": [
    "* The **continue** statement ends the current iteration and jumps to the top of the loop and starts the next iteration."
   ]
  },
  {
   "cell_type": "code",
   "execution_count": 7,
   "metadata": {},
   "outputs": [
    {
     "name": "stdout",
     "output_type": "stream",
     "text": [
      "1\n",
      "2\n",
      "4\n",
      "5\n",
      "6\n"
     ]
    }
   ],
   "source": [
    "i = 0\n",
    "while i < 6:\n",
    "    i += 1\n",
    "    if i == 3:\n",
    "        continue\n",
    "    \n",
    "    print(i)"
   ]
  },
  {
   "cell_type": "markdown",
   "metadata": {},
   "source": [
    "## 2. The for loop"
   ]
  },
  {
   "cell_type": "markdown",
   "metadata": {},
   "source": [
    "* We can write a loop to run the loop once for each of the items in a set using the Python for construct.\n",
    "* These loops are called “definite loops” because they execute an exact number of times."
   ]
  },
  {
   "cell_type": "code",
   "execution_count": 8,
   "metadata": {},
   "outputs": [
    {
     "name": "stdout",
     "output_type": "stream",
     "text": [
      "1\n",
      "2\n",
      "3\n",
      "4\n",
      "5\n",
      "Done!\n"
     ]
    }
   ],
   "source": [
    "for i in [1, 2, 3, 4, 5]:\n",
    "    print(i)\n",
    "\n",
    "print('Done!')"
   ]
  },
  {
   "cell_type": "markdown",
   "metadata": {},
   "source": [
    "* Python provides the **range** function for generating a sequence of intergers that can be used with the **for** loop."
   ]
  },
  {
   "cell_type": "code",
   "execution_count": 9,
   "metadata": {},
   "outputs": [
    {
     "name": "stdout",
     "output_type": "stream",
     "text": [
      "1\n",
      "2\n",
      "3\n",
      "4\n",
      "5\n",
      "Done!\n"
     ]
    }
   ],
   "source": [
    "for i in range(1, 6):\n",
    "    print(i)\n",
    "\n",
    "print('Done!')"
   ]
  },
  {
   "cell_type": "markdown",
   "metadata": {},
   "source": [
    "### Mini exercise\n",
    "   * Write the above code using the **while** loop."
   ]
  },
  {
   "cell_type": "code",
   "execution_count": 10,
   "metadata": {},
   "outputs": [
    {
     "name": "stdout",
     "output_type": "stream",
     "text": [
      "1\n",
      "2\n",
      "3\n",
      "4\n",
      "5\n",
      "Done!\n"
     ]
    }
   ],
   "source": [
    "# your code here\n",
    "\n",
    "i =1\n",
    "while i <=5 :\n",
    "    print(i)\n",
    "    i+=1\n",
    "print('Done!')"
   ]
  },
  {
   "cell_type": "markdown",
   "metadata": {},
   "source": [
    "* By default, the **range** function creates the sequence in steps of 1. This can be changed by including a step value as the third argument to the function:"
   ]
  },
  {
   "cell_type": "code",
   "execution_count": 11,
   "metadata": {},
   "outputs": [
    {
     "name": "stdout",
     "output_type": "stream",
     "text": [
      "1\n",
      "3\n",
      "5\n",
      "7\n",
      "9\n"
     ]
    }
   ],
   "source": [
    "for i in range(1, 10, 2):\n",
    "    print(i)"
   ]
  },
  {
   "cell_type": "markdown",
   "metadata": {},
   "source": [
    "* You can use the **range** function with a single argument. When you do, the range of values starts at zero."
   ]
  },
  {
   "cell_type": "code",
   "execution_count": 12,
   "metadata": {},
   "outputs": [
    {
     "name": "stdout",
     "output_type": "stream",
     "text": [
      "0\n",
      "1\n",
      "2\n",
      "3\n",
      "4\n"
     ]
    }
   ],
   "source": [
    "for i in range(5):\n",
    "    print(i)"
   ]
  },
  {
   "cell_type": "markdown",
   "metadata": {},
   "source": [
    "* Looking through a string."
   ]
  },
  {
   "cell_type": "code",
   "execution_count": 13,
   "metadata": {},
   "outputs": [
    {
     "name": "stdout",
     "output_type": "stream",
     "text": [
      "b\n",
      "a\n",
      "n\n",
      "a\n",
      "n\n",
      "a\n"
     ]
    }
   ],
   "source": [
    "for x in \"banana\":\n",
    "    print(x)"
   ]
  },
  {
   "cell_type": "markdown",
   "metadata": {},
   "source": [
    "* You can also use the **break** statement in a **for** loop."
   ]
  },
  {
   "cell_type": "code",
   "execution_count": 14,
   "metadata": {},
   "outputs": [
    {
     "name": "stdout",
     "output_type": "stream",
     "text": [
      "0\n",
      "1\n",
      "2\n"
     ]
    }
   ],
   "source": [
    "for i in range(5):\n",
    "    if i == 3:\n",
    "        break\n",
    "    \n",
    "    print(i)"
   ]
  },
  {
   "cell_type": "markdown",
   "metadata": {},
   "source": [
    "* Of course, you can also use the **continue** statement in a **for** loop."
   ]
  },
  {
   "cell_type": "code",
   "execution_count": 15,
   "metadata": {},
   "outputs": [
    {
     "name": "stdout",
     "output_type": "stream",
     "text": [
      "0\n",
      "1\n",
      "2\n",
      "4\n"
     ]
    }
   ],
   "source": [
    "for i in range(5):\n",
    "    if i == 3:\n",
    "        continue\n",
    "    \n",
    "    print(i)"
   ]
  },
  {
   "cell_type": "markdown",
   "metadata": {},
   "source": [
    "## 3. Nested Loops"
   ]
  },
  {
   "cell_type": "markdown",
   "metadata": {},
   "source": [
    "* Nested loop is a loop inside another loop statement. When processing tables, nested loops occur naturally. An outer loop iterates over all rows of the table. An inner loop deals with the columns in the current row."
   ]
  },
  {
   "cell_type": "code",
   "execution_count": 16,
   "metadata": {},
   "outputs": [
    {
     "name": "stdout",
     "output_type": "stream",
     "text": [
      "0 0\n",
      "0 1\n",
      "0 2\n",
      "0 3\n",
      "1 0\n",
      "1 1\n",
      "1 2\n",
      "1 3\n",
      "2 0\n",
      "2 1\n",
      "2 2\n",
      "2 3\n"
     ]
    }
   ],
   "source": [
    "for i in range(3):\n",
    "    for j in range(4):\n",
    "        print(i, j)"
   ]
  },
  {
   "cell_type": "markdown",
   "metadata": {},
   "source": [
    "* Also, we can do with the list of strings."
   ]
  },
  {
   "cell_type": "code",
   "execution_count": 17,
   "metadata": {},
   "outputs": [
    {
     "name": "stdout",
     "output_type": "stream",
     "text": [
      "red apple\n",
      "red banana\n",
      "red cherry\n",
      "big apple\n",
      "big banana\n",
      "big cherry\n",
      "tasty apple\n",
      "tasty banana\n",
      "tasty cherry\n"
     ]
    }
   ],
   "source": [
    "adj = [\"red\", \"big\", \"tasty\"]\n",
    "fruits = [\"apple\", \"banana\", \"cherry\"]\n",
    "\n",
    "for x in adj:\n",
    "    for y in fruits:\n",
    "        print(x, y)"
   ]
  },
  {
   "cell_type": "markdown",
   "metadata": {},
   "source": [
    "* Let's write a program that prints a Multiplication table of x."
   ]
  },
  {
   "cell_type": "code",
   "execution_count": 18,
   "metadata": {},
   "outputs": [
    {
     "name": "stdout",
     "output_type": "stream",
     "text": [
      "      1      2      3      4      5      6      7      8      9\n",
      "      2      4      6      8     10     12     14     16     18\n",
      "      3      6      9     12     15     18     21     24     27\n",
      "      4      8     12     16     20     24     28     32     36\n",
      "      5     10     15     20     25     30     35     40     45\n",
      "      6     12     18     24     30     36     42     48     54\n",
      "      7     14     21     28     35     42     49     56     63\n",
      "      8     16     24     32     40     48     56     64     72\n",
      "      9     18     27     36     45     54     63     72     81\n"
     ]
    }
   ],
   "source": [
    "NMAX = 9\n",
    "XMAX = 9\n",
    "\n",
    "for x in range(1, XMAX + 1):\n",
    "    for n in range (1, NMAX+1):\n",
    "        # ex) \"%7d\" %(123)은 '    123' 을 출력. 123앞에 공백 4개 추가하여 전체길이가 7로 \n",
    "        # end 가 없으면 println처럼 바로바로 줄바꿈 됨 \n",
    "        print(\"%7d\" %(x*n), end=\"\") \n",
    "    print()"
   ]
  },
  {
   "cell_type": "markdown",
   "metadata": {},
   "source": [
    "## 4 Processing Strings"
   ]
  },
  {
   "cell_type": "markdown",
   "metadata": {},
   "source": [
    "* A common use of loops is to process or evaluate strings. \n",
    "\n",
    "### 4.1 Validating a String"
   ]
  },
  {
   "cell_type": "markdown",
   "metadata": {},
   "source": [
    "* In Korea, telephone numbers consist of three parts––area code exchange, and line number––which are commonly specified in the form (##)###-####.\n",
    "* We can examine a string to ensure that it contains a correctly formatted phone number. (e.g., (02)958-0000))."
   ]
  },
  {
   "cell_type": "code",
   "execution_count": 19,
   "metadata": {},
   "outputs": [
    {
     "name": "stdout",
     "output_type": "stream",
     "text": [
      "Enter a phone number: 010-5555-5555\n",
      "The string does not contain a valid phone number.\n"
     ]
    }
   ],
   "source": [
    "string = str(input(\"Enter a phone number: \"))\n",
    "\n",
    "valid = len(string) == 12\n",
    "position = 0\n",
    "while valid and position < len(string):\n",
    "    if position == 0:\n",
    "        valid = string[position] == \"(\"\n",
    "    elif position == 3:\n",
    "        valid = string[position] == \")\"\n",
    "    elif position == 7:\n",
    "        valid = string[position] == \"-\"\n",
    "    else:\n",
    "        valid = string[position].isdigit()\n",
    "    \n",
    "    position = position + 1\n",
    "\n",
    "if valid:\n",
    "    print(\"The string contains a valid phone number.\")\n",
    "else:\n",
    "    print(\"The string does not contain a valid phone number.\")"
   ]
  },
  {
   "cell_type": "markdown",
   "metadata": {},
   "source": [
    "### 4.2 Building a new string"
   ]
  },
  {
   "cell_type": "markdown",
   "metadata": {},
   "source": [
    "* One of the minor annoyances of online shopping is that many web sites require you to enter a credit card without spaces or dashes, which makes double-checking the number rather tedious. \n",
    "* Here is a loop that builds a new string containing a credit card number with spaces and dashes removed:\n",
    "    * We read the credit card number\n",
    "    * We initialize a new string to the empty string\n",
    "    * We test each character in the user input\n",
    "        * If the character is not a space or dash we append it to the new string"
   ]
  },
  {
   "cell_type": "code",
   "execution_count": 20,
   "metadata": {},
   "outputs": [
    {
     "name": "stdout",
     "output_type": "stream",
     "text": [
      "Enter a credit card number: 5432-5432-5432-5432\n",
      "new number is:  5432543254325432\n"
     ]
    }
   ],
   "source": [
    "userInput = input(\"Enter a credit card number: \")\n",
    "creditCardNumber = \"\"\n",
    "for char in userInput:\n",
    "    if char != \" \" and char != \"-\":\n",
    "        creditCardNumber = creditCardNumber + char\n",
    "\n",
    "print(\"new number is: \", creditCardNumber)"
   ]
  },
  {
   "cell_type": "markdown",
   "metadata": {},
   "source": [
    "## 5 Applications: Random numbers and Simulations"
   ]
  },
  {
   "cell_type": "markdown",
   "metadata": {},
   "source": [
    "* A simulation program uses the computer to simulate an activity in the real world (or an imaginary one). In many simulations, one or more loops are used to modify the state of a system and observe the changes.\n",
    "\n",
    "### 5.1 Generating random numbers"
   ]
  },
  {
   "cell_type": "markdown",
   "metadata": {},
   "source": [
    "* The Python library has a random number generator that produces numbers that appear to be random.\n",
    "    * The numbers are not completely random.  The numbers are drawn from a sequence of numbers that does not repeat for a long time.\n",
    "    * random() returns a number that is >= 0 and < 1"
   ]
  },
  {
   "cell_type": "code",
   "execution_count": 21,
   "metadata": {},
   "outputs": [
    {
     "name": "stdout",
     "output_type": "stream",
     "text": [
      "0 0.779648730126259\n",
      "1 0.6311966099318533\n",
      "2 0.8778322976972224\n",
      "3 0.47726927166632005\n",
      "4 0.3614172158981235\n",
      "5 0.7524995539722915\n",
      "6 0.942759376967164\n",
      "7 0.45584098766223446\n",
      "8 0.4250645296938379\n",
      "9 0.13024030736548864\n"
     ]
    }
   ],
   "source": [
    "from random import random\n",
    "\n",
    "for i in range(10):\n",
    "    value = random()\n",
    "    print(i, value)"
   ]
  },
  {
   "cell_type": "markdown",
   "metadata": {},
   "source": [
    "### 5.2 Simulating Die tosses"
   ]
  },
  {
   "cell_type": "markdown",
   "metadata": {},
   "source": [
    "* In actual applications, you need to transform the output from the random number generator into a specific range. For example, to simulate the throw of a die, you need random integers between 1 and 6.\n",
    "* Python provides a separate function for generating a random integer within a given range: **randint** function"
   ]
  },
  {
   "cell_type": "code",
   "execution_count": 22,
   "metadata": {},
   "outputs": [
    {
     "name": "stdout",
     "output_type": "stream",
     "text": [
      "3\n",
      "6\n",
      "5\n",
      "5\n",
      "1\n",
      "3\n",
      "1\n",
      "4\n",
      "2\n",
      "6\n"
     ]
    }
   ],
   "source": [
    "from random import randint\n",
    "\n",
    "for i in range(10):\n",
    "    d1 = randint(1, 6)\n",
    "    \n",
    "    #print the two values\n",
    "    print(d1)"
   ]
  },
  {
   "cell_type": "markdown",
   "metadata": {},
   "source": [
    "### 5.3 The Monte Carlo Method"
   ]
  },
  {
   "cell_type": "markdown",
   "metadata": {},
   "source": [
    "* The Monte Carlo method is an ingenious method for finding approximate solutions to problems that cannot be precisely solved. \n",
    "* For example, it is difficult to compute the number $\\pi$, but you can approximate it quite well with the simulation.\n",
    "    * Uses simple arithmetic\n",
    "    * Hits  are inside circle\n",
    "    * Tries are total number of tries\n",
    "    * Ratio is Hits / (Tries/4)\n",
    "\n",
    "<!-- for Jupyter Notebook user -->\n",
    "<img src=\"lecture3-figure1.png\" style=\"height:500px\" align=\"left\">\n",
    "\n",
    "<!-- for Colab user -->\n",
    "<!--![](https://drive.google.com/uc?export=view&id=1k2ybC8PmbYLelhg2f8b-WKhPRwd-zUXm)-->"
   ]
  },
  {
   "cell_type": "code",
   "execution_count": 23,
   "metadata": {},
   "outputs": [
    {
     "name": "stdout",
     "output_type": "stream",
     "text": [
      "Estimate for pi:  3.36\n",
      "The accuracy:  0.21840734641020676\n"
     ]
    }
   ],
   "source": [
    "from random import random\n",
    "import math\n",
    "\n",
    "TRIES = 100\n",
    "\n",
    "hits = 0\n",
    "for i in range(TRIES):\n",
    "    \n",
    "    # Generate two random numbers between -1 and 1\n",
    "    r = random()\n",
    "    x = -1 + 2*r\n",
    "    r = random()\n",
    "    y = -1 + 2*r\n",
    "    \n",
    "    # Check whether the point lies in the unit circle.\n",
    "    if x*x + y*y <=1:\n",
    "        hits = hits + 1\n",
    "    \n",
    "piEstimate = hits / (TRIES/4)\n",
    "print(\"Estimate for pi: \", piEstimate)\n",
    "print(\"The accuracy: \", abs(piEstimate - math.pi))"
   ]
  },
  {
   "cell_type": "markdown",
   "metadata": {},
   "source": [
    "### Mini Exercise: Write a code to simulate a coin toss with the random function.\n",
    "   * Print 10 values of coin tosses.\n",
    "   * The output would be wheter \"head\" or \"tail\"."
   ]
  },
  {
   "cell_type": "code",
   "execution_count": 24,
   "metadata": {
    "scrolled": true
   },
   "outputs": [
    {
     "name": "stdout",
     "output_type": "stream",
     "text": [
      "head\n",
      "tail\n",
      "tail\n",
      "head\n",
      "tail\n",
      "head\n",
      "head\n",
      "tail\n",
      "tail\n",
      "head\n"
     ]
    }
   ],
   "source": [
    "# your code here\n",
    "\n",
    "from random import randint\n",
    "import math\n",
    "\n",
    "TRIES = 10\n",
    "\n",
    "hits = 0\n",
    "for i in range(TRIES):\n",
    "    \n",
    "    # Generate two random numbers between -1 and 1\n",
    "    r = randint(0,1)\n",
    "    if r ==1 :\n",
    "        print(\"head\")\n",
    "    else :\n",
    "        print(\"tail\")"
   ]
  },
  {
   "cell_type": "markdown",
   "metadata": {},
   "source": [
    "## Exercise"
   ]
  },
  {
   "cell_type": "markdown",
   "metadata": {},
   "source": [
    "1. Write a program with loops that compute the sum of all even numbers between 1 and 100 (inclusive)."
   ]
  },
  {
   "cell_type": "code",
   "execution_count": 25,
   "metadata": {},
   "outputs": [
    {
     "name": "stdout",
     "output_type": "stream",
     "text": [
      "2550\n"
     ]
    }
   ],
   "source": [
    "# your code here\n",
    "sum =0\n",
    "for i in range(2,101, 2):\n",
    "    sum = sum+i\n",
    "\n",
    "print(sum)"
   ]
  },
  {
   "cell_type": "markdown",
   "metadata": {},
   "source": [
    "2. Write a program with loops that compuete the sum of all squares between 1 and 200 (inclusive)."
   ]
  },
  {
   "cell_type": "code",
   "execution_count": 26,
   "metadata": {},
   "outputs": [
    {
     "name": "stdout",
     "output_type": "stream",
     "text": [
      "2686700\n"
     ]
    }
   ],
   "source": [
    "# your code here\n",
    "\n",
    "sum =0\n",
    "\n",
    "for i in range(1, 201):\n",
    "    sum = sum+(i**2)\n",
    "print(sum)"
   ]
  },
  {
   "cell_type": "markdown",
   "metadata": {},
   "source": [
    "3. Write a program that reads a word and prints each character of the word on a separate line. For example, if the user provides the input \"IMMBA\", the program prints <br/>\n",
    "\n",
    "    I<br/>\n",
    "    M<br/>\n",
    "    M<br/>\n",
    "    B<br/>\n",
    "    A"
   ]
  },
  {
   "cell_type": "code",
   "execution_count": 27,
   "metadata": {
    "scrolled": false
   },
   "outputs": [
    {
     "name": "stdout",
     "output_type": "stream",
     "text": [
      "K\n",
      "A\n",
      "I\n",
      "S\n",
      "T\n",
      " \n",
      "I\n",
      "M\n",
      "M\n",
      "B\n",
      "A\n",
      " \n",
      "A\n",
      "_\n",
      "A\n"
     ]
    }
   ],
   "source": [
    "word = \"KAIST IMMBA A_A\"\n",
    "\n",
    "# your code here\n",
    "for i in word :\n",
    "    print(i)\n",
    "\n"
   ]
  },
  {
   "cell_type": "markdown",
   "metadata": {},
   "source": [
    "4. Write a program that prints all the numbers from 0 to 10 except 2 and 5. <br/>\n",
    "    Note : Use 'continue' statement."
   ]
  },
  {
   "cell_type": "code",
   "execution_count": 28,
   "metadata": {},
   "outputs": [
    {
     "name": "stdout",
     "output_type": "stream",
     "text": [
      "0\n",
      "1\n",
      "3\n",
      "4\n",
      "6\n",
      "7\n",
      "8\n",
      "9\n",
      "10\n"
     ]
    }
   ],
   "source": [
    "# your code here\n",
    "\n",
    "i=0 \n",
    "\n",
    "while i<=10 :\n",
    "    if (i==2)|(i==5):\n",
    "        i+=1\n",
    "        continue\n",
    "    print(i)\n",
    "    i+=1\n"
   ]
  },
  {
   "cell_type": "code",
   "execution_count": 29,
   "metadata": {},
   "outputs": [
    {
     "name": "stdout",
     "output_type": "stream",
     "text": [
      "0\n",
      "1\n",
      "3\n",
      "4\n",
      "6\n",
      "7\n",
      "8\n",
      "9\n",
      "10\n"
     ]
    }
   ],
   "source": [
    "# your code here\n",
    "\n",
    "i=-1 \n",
    "\n",
    "while i<10 :\n",
    "    i+=1\n",
    "    if (i==2)|(i==5):\n",
    "        continue\n",
    "    print(i)\n",
    "    \n"
   ]
  },
  {
   "cell_type": "code",
   "execution_count": 31,
   "metadata": {},
   "outputs": [
    {
     "name": "stdout",
     "output_type": "stream",
     "text": [
      "0\n",
      "1\n",
      "3\n",
      "4\n",
      "6\n",
      "7\n",
      "8\n",
      "9\n",
      "10\n"
     ]
    }
   ],
   "source": [
    "# your code here\n",
    "for i in range(-1, 10) :\n",
    "    i+=1\n",
    "    if (i==2)|(i==5):\n",
    "        continue\n",
    "    print(i)\n",
    "    "
   ]
  },
  {
   "cell_type": "code",
   "execution_count": 32,
   "metadata": {},
   "outputs": [
    {
     "name": "stdout",
     "output_type": "stream",
     "text": [
      "0\n",
      "1\n",
      "3\n",
      "4\n",
      "6\n",
      "7\n",
      "8\n",
      "9\n",
      "10\n"
     ]
    }
   ],
   "source": [
    "i =0\n",
    "while i<=10:\n",
    "    if (i!=2)&(i!=5):\n",
    "        print(i)\n",
    "        \n",
    "    i+=1\n"
   ]
  }
 ],
 "metadata": {
  "kernelspec": {
   "display_name": "Python 3",
   "language": "python",
   "name": "python3"
  },
  "language_info": {
   "codemirror_mode": {
    "name": "ipython",
    "version": 3
   },
   "file_extension": ".py",
   "mimetype": "text/x-python",
   "name": "python",
   "nbconvert_exporter": "python",
   "pygments_lexer": "ipython3",
   "version": "3.7.6"
  }
 },
 "nbformat": 4,
 "nbformat_minor": 2
}
