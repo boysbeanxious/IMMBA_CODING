{
 "cells": [
  {
   "cell_type": "markdown",
   "metadata": {},
   "source": [
    "# Lecture 8-2 : Interactive Data Visualization - bokeh"
   ]
  },
  {
   "cell_type": "markdown",
   "metadata": {},
   "source": [
    "* Bokeh is an interactive visualization library that targets modern web browsers for presentation. Its goal is to provide elegant, concise construction of versatile graphics, and to extend this capability with high-performance interactivity over very large or streaming datasets. Bokeh can help anyone who would like to quickly and easily create interactive plots, dashboards, and data applications.\n",
    "* To get started using Bokeh to make your visualizations, see the User Guide (https://docs.bokeh.org/en/latest/ ).\n",
    "\n",
    "* To see examples of how you might use Bokeh with your own data, check out the Gallery \n",
    "(https://docs.bokeh.org/en/latest/docs/gallery.html )."
   ]
  },
  {
   "cell_type": "code",
   "execution_count": 1,
   "metadata": {},
   "outputs": [],
   "source": [
    "from bokeh.plotting import figure, show, output_file\n",
    "from bokeh.models import HoverTool\n",
    "from bokeh.models import ColumnDataSource"
   ]
  },
  {
   "cell_type": "code",
   "execution_count": 2,
   "metadata": {},
   "outputs": [],
   "source": [
    "import pandas as pd\n",
    "\n",
    "df_covid = pd.read_csv('./covid19-worldwide2020.csv')"
   ]
  },
  {
   "cell_type": "code",
   "execution_count": 3,
   "metadata": {},
   "outputs": [],
   "source": [
    "cases_and_death2 = df_covid.groupby('countriesAndTerritories')[['cases', 'deaths', 'popData2019', 'continentExp']].agg(\n",
    "    {'cases':'sum', 'deaths':'sum', 'popData2019':'max', 'continentExp':'max'})\n",
    "\n",
    "cases_and_death2 = cases_and_death2.reset_index()\n",
    "\n",
    "colormap = {'Europe': 'red', 'Africa': 'orange', 'America': 'gray',\n",
    "           'Asia': 'green', 'Oceania': 'blue'}\n",
    "\n",
    "cases_and_death2['color'] = cases_and_death2['continentExp'].map(colormap)\n",
    "\n",
    "data = ColumnDataSource(cases_and_death2)\n",
    "\n",
    "x = cases_and_death2['cases']\n",
    "y = cases_and_death2['deaths']\n",
    "\n",
    "TOOLS=\"pan,wheel_zoom,zoom_in,zoom_out,reset,save\"\n",
    "\n",
    "tooltips = [\n",
    "            ('country','@countriesAndTerritories'),\n",
    "            ('cases', '@cases'),\n",
    "            ('deaths', '@deaths')           \n",
    "]\n",
    "\n",
    "p = figure(plot_height=800,\n",
    "           plot_width=1200,\n",
    "           x_axis_label='cases',\n",
    "           y_axis_label='deaths',\n",
    "           title='relations between cases and deaths of Covid19 worldwide',\n",
    "           tools=TOOLS)\n",
    "\n",
    "for continent in list(df_covid['continentExp'].drop_duplicates()): \n",
    "   \n",
    "    cases_and_death3 = cases_and_death2[cases_and_death2['continentExp']==continent]\n",
    "\n",
    "    source = ColumnDataSource(\n",
    "        cases_and_death3\n",
    "    )\n",
    "    p.circle(x='cases', y='deaths', source=source,\n",
    "                         size=10, alpha=0.4, legend_group='continentExp', color='color',\n",
    "                         hover_fill_color='black', hover_alpha=0.5)\n",
    "\n",
    "p.add_tools(HoverTool(tooltips=tooltips))\n",
    "p.legend.click_policy=\"hide\" \n",
    "p.legend.location = \"top_left\"\n",
    "\n",
    "output_file(\"cases-vs-deaths.html\", title=\"Covid19 data visualization\")\n",
    "show(p)"
   ]
  },
  {
   "cell_type": "code",
   "execution_count": null,
   "metadata": {},
   "outputs": [],
   "source": []
  }
 ],
 "metadata": {
  "kernelspec": {
   "display_name": "Python 3",
   "language": "python",
   "name": "python3"
  },
  "language_info": {
   "codemirror_mode": {
    "name": "ipython",
    "version": 3
   },
   "file_extension": ".py",
   "mimetype": "text/x-python",
   "name": "python",
   "nbconvert_exporter": "python",
   "pygments_lexer": "ipython3",
   "version": "3.7.6"
  }
 },
 "nbformat": 4,
 "nbformat_minor": 2
}
